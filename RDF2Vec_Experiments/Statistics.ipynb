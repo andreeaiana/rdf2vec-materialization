{
 "cells": [
  {
   "cell_type": "code",
   "execution_count": 1,
   "metadata": {},
   "outputs": [],
   "source": [
    "from SPARQLWrapper import SPARQLWrapper, JSON\n",
    "import pandas as pd\n",
    "import os"
   ]
  },
  {
   "cell_type": "code",
   "execution_count": 2,
   "metadata": {},
   "outputs": [],
   "source": [
    "dbpedia_sparql = \"http://dbpedia.org/sparql\"\n",
    "wikidata_sparql = \"https://query.wikidata.org/sparql\"\n",
    "dbpedia_instances_count = 5489629"
   ]
  },
  {
   "cell_type": "code",
   "execution_count": 3,
   "metadata": {},
   "outputs": [],
   "source": [
    "def run_query(sparql_endpoint, query):\n",
    "    sparql = SPARQLWrapper(sparql_endpoint)\n",
    "    sparql.setQuery(query)\n",
    "    sparql.setReturnFormat(JSON)\n",
    "    results = sparql.query().convert()\n",
    "    results_df = pd.io.json.json_normalize(results[\"results\"][\"bindings\"])\n",
    "    return results_df"
   ]
  },
  {
   "cell_type": "markdown",
   "metadata": {},
   "source": [
    "# 1. DBpedia instances with properties mapped to Wikidata properties"
   ]
  },
  {
   "cell_type": "markdown",
   "metadata": {},
   "source": [
    "## 1.1. Retrieve DBpedia properties mapped to Wikidata"
   ]
  },
  {
   "cell_type": "markdown",
   "metadata": {},
   "source": [
    "Query and save mapped properties"
   ]
  },
  {
   "cell_type": "code",
   "execution_count": 4,
   "metadata": {},
   "outputs": [
    {
     "data": {
      "text/html": [
       "<div>\n",
       "<style scoped>\n",
       "    .dataframe tbody tr th:only-of-type {\n",
       "        vertical-align: middle;\n",
       "    }\n",
       "\n",
       "    .dataframe tbody tr th {\n",
       "        vertical-align: top;\n",
       "    }\n",
       "\n",
       "    .dataframe thead th {\n",
       "        text-align: right;\n",
       "    }\n",
       "</style>\n",
       "<table border=\"1\" class=\"dataframe\">\n",
       "  <thead>\n",
       "    <tr style=\"text-align: right;\">\n",
       "      <th></th>\n",
       "      <th>DBpediaProp</th>\n",
       "      <th>DBpediaPropLabel</th>\n",
       "      <th>WikidataProp</th>\n",
       "      <th>WikidataPropLabel</th>\n",
       "    </tr>\n",
       "  </thead>\n",
       "  <tbody>\n",
       "    <tr>\n",
       "      <th>0</th>\n",
       "      <td>http://dbpedia.org/ontology/absoluteMagnitude</td>\n",
       "      <td>absolute magnitude</td>\n",
       "      <td>http://www.wikidata.org/entity/P1457</td>\n",
       "      <td>absolute magnitude</td>\n",
       "    </tr>\n",
       "    <tr>\n",
       "      <th>1</th>\n",
       "      <td>http://dbpedia.org/ontology/address</td>\n",
       "      <td>address</td>\n",
       "      <td>http://www.wikidata.org/entity/P969</td>\n",
       "      <td>located at street address</td>\n",
       "    </tr>\n",
       "    <tr>\n",
       "      <th>2</th>\n",
       "      <td>http://dbpedia.org/ontology/alias</td>\n",
       "      <td>alias</td>\n",
       "      <td>http://www.wikidata.org/entity/P742</td>\n",
       "      <td>pseudonym</td>\n",
       "    </tr>\n",
       "    <tr>\n",
       "      <th>3</th>\n",
       "      <td>http://dbpedia.org/ontology/almaMater</td>\n",
       "      <td>alma mater</td>\n",
       "      <td>http://www.wikidata.org/entity/P69</td>\n",
       "      <td>educated at</td>\n",
       "    </tr>\n",
       "    <tr>\n",
       "      <th>4</th>\n",
       "      <td>http://dbpedia.org/ontology/amgid</td>\n",
       "      <td>amgId</td>\n",
       "      <td>http://www.wikidata.org/entity/P1562</td>\n",
       "      <td>AllMovie movie ID</td>\n",
       "    </tr>\n",
       "  </tbody>\n",
       "</table>\n",
       "</div>"
      ],
      "text/plain": [
       "                                     DBpediaProp    DBpediaPropLabel  \\\n",
       "0  http://dbpedia.org/ontology/absoluteMagnitude  absolute magnitude   \n",
       "1            http://dbpedia.org/ontology/address             address   \n",
       "2              http://dbpedia.org/ontology/alias               alias   \n",
       "3          http://dbpedia.org/ontology/almaMater          alma mater   \n",
       "4              http://dbpedia.org/ontology/amgid               amgId   \n",
       "\n",
       "                           WikidataProp          WikidataPropLabel  \n",
       "0  http://www.wikidata.org/entity/P1457         absolute magnitude  \n",
       "1   http://www.wikidata.org/entity/P969  located at street address  \n",
       "2   http://www.wikidata.org/entity/P742                  pseudonym  \n",
       "3    http://www.wikidata.org/entity/P69                educated at  \n",
       "4  http://www.wikidata.org/entity/P1562          AllMovie movie ID  "
      ]
     },
     "execution_count": 4,
     "metadata": {},
     "output_type": "execute_result"
    }
   ],
   "source": [
    "query = \"\"\"\n",
    "    PREFIX       owl:  <http://www.w3.org/2002/07/owl#>\n",
    "    PREFIX      rdfs:  <http://www.w3.org/2000/01/rdf-schema#>\n",
    "\n",
    "    SELECT DISTINCT ?DBpediaProp ?DBpediaPropLabel ?WikidataProp ?WikidataPropLabel\n",
    "    WHERE\n",
    "      {\n",
    "        ?DBpediaProp  owl:equivalentProperty  ?WikidataProp .\n",
    "                      FILTER ( CONTAINS ( str(?WikidataProp) , 'wikidata' ) ) .\n",
    "        ?DBpediaProp  rdfs:label              ?DBpediaPropLabel .\n",
    "                      FILTER (lang(?DBpediaPropLabel) = 'en')\n",
    "        ?WikidataProp  rdfs:label              ?WikidataPropLabel .\n",
    "                      FILTER (lang(?WikidataPropLabel) = 'en')\n",
    "      }\n",
    "    ORDER BY  ?DBpediaProp\n",
    "    \"\"\"\n",
    "results_df = run_query(dbpedia_sparql, query)\n",
    "mapped_properties = results_df[[\"DBpediaProp.value\", \"DBpediaPropLabel.value\", \"WikidataProp.value\", \"WikidataPropLabel.value\"]]\n",
    "mapped_properties.columns = [\"DBpediaProp\", \"DBpediaPropLabel\", \"WikidataProp\", \"WikidataPropLabel\"]\n",
    "mapped_properties.head()"
   ]
  },
  {
   "cell_type": "code",
   "execution_count": 5,
   "metadata": {},
   "outputs": [
    {
     "name": "stdout",
     "output_type": "stream",
     "text": [
      "Queried 177 properties from Dbpedia mapped to properties in Wikidata\n"
     ]
    }
   ],
   "source": [
    "mapped_properties_count = len(mapped_properties)\n",
    "print(\"Queried {} properties from Dbpedia mapped to properties in Wikidata\".format(mapped_properties_count))"
   ]
  },
  {
   "cell_type": "code",
   "execution_count": 6,
   "metadata": {},
   "outputs": [],
   "source": [
    "mapped_properties_file = \"../Data/interim/DBpedia/properties/DBpedia_Wikidata_mapped_properties.csv\"\n",
    "mapped_properties.to_csv(mapped_properties_file, index = False)"
   ]
  },
  {
   "cell_type": "markdown",
   "metadata": {},
   "source": [
    "Compute percentage of DBpedia properties mapped"
   ]
  },
  {
   "cell_type": "code",
   "execution_count": 7,
   "metadata": {},
   "outputs": [
    {
     "data": {
      "text/html": [
       "<div>\n",
       "<style scoped>\n",
       "    .dataframe tbody tr th:only-of-type {\n",
       "        vertical-align: middle;\n",
       "    }\n",
       "\n",
       "    .dataframe tbody tr th {\n",
       "        vertical-align: top;\n",
       "    }\n",
       "\n",
       "    .dataframe thead th {\n",
       "        text-align: right;\n",
       "    }\n",
       "</style>\n",
       "<table border=\"1\" class=\"dataframe\">\n",
       "  <thead>\n",
       "    <tr style=\"text-align: right;\">\n",
       "      <th></th>\n",
       "      <th>DBpediaObjProp</th>\n",
       "      <th>DBPediaPropLabel</th>\n",
       "    </tr>\n",
       "  </thead>\n",
       "  <tbody>\n",
       "    <tr>\n",
       "      <th>0</th>\n",
       "      <td>http://dbpedia.org/ontology/deathPlace</td>\n",
       "      <td>death place</td>\n",
       "    </tr>\n",
       "    <tr>\n",
       "      <th>1</th>\n",
       "      <td>http://dbpedia.org/ontology/birthPlace</td>\n",
       "      <td>birth place</td>\n",
       "    </tr>\n",
       "    <tr>\n",
       "      <th>2</th>\n",
       "      <td>http://dbpedia.org/ontology/wikiPageWikiLink</td>\n",
       "      <td>Link from a Wikipage to another Wikipage</td>\n",
       "    </tr>\n",
       "    <tr>\n",
       "      <th>3</th>\n",
       "      <td>http://dbpedia.org/ontology/wikiPageExternalLink</td>\n",
       "      <td>Link from a Wikipage to an external page</td>\n",
       "    </tr>\n",
       "    <tr>\n",
       "      <th>4</th>\n",
       "      <td>http://dbpedia.org/ontology/wikiPageRedirects</td>\n",
       "      <td>Wikipage redirect</td>\n",
       "    </tr>\n",
       "  </tbody>\n",
       "</table>\n",
       "</div>"
      ],
      "text/plain": [
       "                                     DBpediaObjProp  \\\n",
       "0            http://dbpedia.org/ontology/deathPlace   \n",
       "1            http://dbpedia.org/ontology/birthPlace   \n",
       "2      http://dbpedia.org/ontology/wikiPageWikiLink   \n",
       "3  http://dbpedia.org/ontology/wikiPageExternalLink   \n",
       "4     http://dbpedia.org/ontology/wikiPageRedirects   \n",
       "\n",
       "                           DBPediaPropLabel  \n",
       "0                               death place  \n",
       "1                               birth place  \n",
       "2  Link from a Wikipage to another Wikipage  \n",
       "3  Link from a Wikipage to an external page  \n",
       "4                         Wikipage redirect  "
      ]
     },
     "execution_count": 7,
     "metadata": {},
     "output_type": "execute_result"
    }
   ],
   "source": [
    "#Extract object properties\n",
    "query = \"\"\"\n",
    "    SELECT DISTINCT ?prop  ?label\n",
    "    WHERE {\n",
    "     ?prop a owl:ObjectProperty .\n",
    "     ?prop rdfs:label ?label .\n",
    "     FILTER(langmatches(lang(?label), 'en'))\n",
    "     FILTER NOT EXISTS {?prop rdfs:domain owl:Thing}\n",
    "    }\n",
    "\"\"\"\n",
    "results_df = run_query(dbpedia_sparql, query)\n",
    "object_properties = results_df[[\"prop.value\", \"label.value\"]]\n",
    "object_properties.columns = [\"DBpediaObjProp\", \"DBPediaPropLabel\"]\n",
    "object_properties.head()"
   ]
  },
  {
   "cell_type": "code",
   "execution_count": 8,
   "metadata": {},
   "outputs": [
    {
     "name": "stdout",
     "output_type": "stream",
     "text": [
      "Queried 1657 object properties from DBpedia.\n"
     ]
    }
   ],
   "source": [
    "object_properties_count = len(object_properties)\n",
    "print(\"Queried {} object properties from DBpedia.\".format(object_properties_count))"
   ]
  },
  {
   "cell_type": "code",
   "execution_count": 9,
   "metadata": {},
   "outputs": [
    {
     "name": "stdout",
     "output_type": "stream",
     "text": [
      "There are 98 DBpedia object properties mapped to Wikidata.\n"
     ]
    },
    {
     "data": {
      "text/html": [
       "<div>\n",
       "<style scoped>\n",
       "    .dataframe tbody tr th:only-of-type {\n",
       "        vertical-align: middle;\n",
       "    }\n",
       "\n",
       "    .dataframe tbody tr th {\n",
       "        vertical-align: top;\n",
       "    }\n",
       "\n",
       "    .dataframe thead th {\n",
       "        text-align: right;\n",
       "    }\n",
       "</style>\n",
       "<table border=\"1\" class=\"dataframe\">\n",
       "  <thead>\n",
       "    <tr style=\"text-align: right;\">\n",
       "      <th></th>\n",
       "      <th>DBpediaProp</th>\n",
       "      <th>DBpediaPropLabel</th>\n",
       "      <th>WikidataProp</th>\n",
       "      <th>WikidataPropLabel</th>\n",
       "    </tr>\n",
       "  </thead>\n",
       "  <tbody>\n",
       "    <tr>\n",
       "      <th>0</th>\n",
       "      <td>http://dbpedia.org/ontology/almaMater</td>\n",
       "      <td>alma mater</td>\n",
       "      <td>http://www.wikidata.org/entity/P69</td>\n",
       "      <td>educated at</td>\n",
       "    </tr>\n",
       "    <tr>\n",
       "      <th>1</th>\n",
       "      <td>http://dbpedia.org/ontology/anthem</td>\n",
       "      <td>anthem</td>\n",
       "      <td>http://www.wikidata.org/entity/P85</td>\n",
       "      <td>anthem</td>\n",
       "    </tr>\n",
       "    <tr>\n",
       "      <th>2</th>\n",
       "      <td>http://dbpedia.org/ontology/architect</td>\n",
       "      <td>architect</td>\n",
       "      <td>http://www.wikidata.org/entity/P84</td>\n",
       "      <td>architect</td>\n",
       "    </tr>\n",
       "    <tr>\n",
       "      <th>3</th>\n",
       "      <td>http://dbpedia.org/ontology/architecturalStyle</td>\n",
       "      <td>architectural style</td>\n",
       "      <td>http://www.wikidata.org/entity/P149</td>\n",
       "      <td>architectural style</td>\n",
       "    </tr>\n",
       "    <tr>\n",
       "      <th>4</th>\n",
       "      <td>http://dbpedia.org/ontology/artist</td>\n",
       "      <td>performer</td>\n",
       "      <td>http://www.wikidata.org/entity/P175</td>\n",
       "      <td>performer</td>\n",
       "    </tr>\n",
       "  </tbody>\n",
       "</table>\n",
       "</div>"
      ],
      "text/plain": [
       "                                      DBpediaProp     DBpediaPropLabel  \\\n",
       "0           http://dbpedia.org/ontology/almaMater           alma mater   \n",
       "1              http://dbpedia.org/ontology/anthem               anthem   \n",
       "2           http://dbpedia.org/ontology/architect            architect   \n",
       "3  http://dbpedia.org/ontology/architecturalStyle  architectural style   \n",
       "4              http://dbpedia.org/ontology/artist            performer   \n",
       "\n",
       "                          WikidataProp    WikidataPropLabel  \n",
       "0   http://www.wikidata.org/entity/P69          educated at  \n",
       "1   http://www.wikidata.org/entity/P85               anthem  \n",
       "2   http://www.wikidata.org/entity/P84            architect  \n",
       "3  http://www.wikidata.org/entity/P149  architectural style  \n",
       "4  http://www.wikidata.org/entity/P175            performer  "
      ]
     },
     "execution_count": 9,
     "metadata": {},
     "output_type": "execute_result"
    }
   ],
   "source": [
    "mapped_obj_prop = [prop for prop in list(mapped_properties[\"DBpediaProp\"]) if prop in list(object_properties[\"DBpediaObjProp\"])]\n",
    "mapped_object_properties = mapped_properties[mapped_properties[\"DBpediaProp\"].isin(mapped_obj_prop)]\n",
    "mapped_object_properties.reset_index(drop = True, inplace = True)\n",
    "print(\"There are {} DBpedia object properties mapped to Wikidata.\".format(len(mapped_object_properties)))\n",
    "mapped_object_properties.head()"
   ]
  },
  {
   "cell_type": "code",
   "execution_count": 10,
   "metadata": {},
   "outputs": [],
   "source": [
    "mapped_obj_properties_file = \"../Data/interim/DBpedia/properties/DBpedia_Wikidata_mapped_obj_prop.csv\"\n",
    "mapped_object_properties.to_csv(mapped_obj_properties_file, index = False)"
   ]
  },
  {
   "cell_type": "markdown",
   "metadata": {},
   "source": [
    "## 1.2. Compute percentage of instances with mapped properties"
   ]
  },
  {
   "cell_type": "code",
   "execution_count": 11,
   "metadata": {
    "scrolled": true
   },
   "outputs": [
    {
     "name": "stdout",
     "output_type": "stream",
     "text": [
      "absoluteMagnitude\n",
      "address\n",
      "alias\n",
      "almaMater\n",
      "amgid\n",
      "anthem\n",
      "apparentMagnitude\n",
      "architect\n",
      "architecturalStyle\n",
      "areaCode\n",
      "artist\n",
      "atomicNumber\n",
      "author\n",
      "award\n",
      "bSide\n",
      "basedOn\n",
      "battle\n",
      "bibsysId\n",
      "birthDate\n",
      "birthName\n",
      "birthPlace\n",
      "birthYear\n",
      "bnfId\n",
      "builder\n",
      "capital\n",
      "causeOfDeath\n",
      "ceo\n",
      "child\n",
      "chromosome\n",
      "cinematography\n",
      "citizenship\n",
      "city\n",
      "coatOfArms\n",
      "coden\n",
      "colour\n",
      "composer\n",
      "compressionRatio\n",
      "computingPlatform\n",
      "constellation\n",
      "constructionMaterial\n",
      "continent\n",
      "cosparId\n",
      "country\n",
      "county\n",
      "coverArtist\n",
      "cpu\n",
      "creator\n",
      "crewMember\n",
      "crosses\n",
      "currency\n",
      "currencyCode\n",
      "date\n",
      "dcc\n",
      "deathCause\n",
      "deathDate\n",
      "deathPlace\n",
      "designer\n",
      "developer\n",
      "diocese\n",
      "director\n",
      "discipline\n",
      "discovered\n",
      "discoverer\n",
      "diseasesDb\n",
      "distributor\n",
      "district\n",
      "doctoralAdvisor\n",
      "doctoralStudent\n",
      "ecNumber\n",
      "editing\n",
      "editor\n",
      "education\n",
      "einecsNumber\n",
      "elo\n",
      "emblem\n",
      "employer\n",
      "endDate\n",
      "ethnicity\n",
      "eyeColor\n",
      "father\n",
      "flag\n",
      "followedBy\n",
      "follows\n",
      "formationDate\n",
      "foundedBy\n",
      "founder\n",
      "foundingDate\n",
      "fuelSystem\n",
      "gameEngine\n",
      "generalManager\n",
      "genre\n",
      "giniCoefficient\n",
      "handedness\n",
      "headquarter\n",
      "highestPoint\n",
      "highwaySystem\n",
      "homeport\n",
      "iataAirlineCode\n",
      "iataLocationIdentifier\n",
      "icaoAirlineCode\n",
      "icaoLocationIdentifier\n",
      "icd10\n",
      "icd9\n",
      "ideology\n",
      "illustrator\n",
      "imdbId\n",
      "individualisedGnd\n",
      "industry\n",
      "inflow\n",
      "inseeCode\n",
      "instrument\n",
      "isPartOf\n",
      "isbn\n",
      "isbn\n",
      "isil\n",
      "isniId\n",
      "iso31661Code\n",
      "iso31661Code\n",
      "iso31661Code\n",
      "iso6391Code\n",
      "iso6392Code\n",
      "iso6393Code\n",
      "istat\n",
      "killedBy\n",
      "landingDate\n",
      "launchDate\n",
      "launchSite\n",
      "launchVehicle\n",
      "lccnId\n",
      "league\n",
      "license\n",
      "locatedInArea\n",
      "maintainedBy\n",
      "manager\n",
      "manufacturer\n",
      "meshId\n",
      "mother\n",
      "movement\n",
      "musicBy\n",
      "musicalArtist\n",
      "namedAfter\n",
      "ndlId\n",
      "nisCode\n",
      "nlaId\n",
      "nutsCode\n",
      "occupation\n",
      "ofsCode\n",
      "okatoCode\n",
      "orcidId\n",
      "orientation\n",
      "originalLanguage\n",
      "owner\n",
      "party\n",
      "pdb\n",
      "placeOfBurial\n",
      "populationTotal\n",
      "primeMinister\n",
      "province\n",
      "recordLabel\n",
      "releaseDate\n",
      "religion\n",
      "residence\n",
      "rkdArtistsId\n",
      "selibrId\n",
      "settlement\n",
      "sex\n",
      "signature\n",
      "spouse\n",
      "starring\n",
      "startDate\n",
      "sudocId\n",
      "taoiseach\n",
      "team\n",
      "terytCode\n",
      "ulanId\n",
      "unloCode\n",
      "viafId\n"
     ]
    }
   ],
   "source": [
    "mapped_instances = set()\n",
    "for mapped_prop in mapped_properties[\"DBpediaProp\"]:\n",
    "    prop = mapped_prop.split(\"/\")[-1]\n",
    "    print(prop)\n",
    "    query = \"\"\"\n",
    "        SELECT DISTINCT ?item\n",
    "        WHERE {\n",
    "            ?item dbo:\"\"\" + prop + \"\"\" [] .\n",
    "        }\n",
    "    \"\"\"\n",
    "    results_df = run_query(dbpedia_sparql, query)\n",
    "    if not results_df.empty:\n",
    "        mapped_instances.update(list(results_df[\"item.value\"]))"
   ]
  },
  {
   "cell_type": "code",
   "execution_count": 12,
   "metadata": {},
   "outputs": [
    {
     "name": "stdout",
     "output_type": "stream",
     "text": [
      "624384 instances from DBpedia have a property matched to a property in Wikidata.\n",
      "Percentage of all DBpedia instances: 11.373883371717834\n"
     ]
    }
   ],
   "source": [
    "mapped_instances_count = len(mapped_instances)\n",
    "print(\"{} instances from DBpedia have a property matched to a property in Wikidata.\".format(mapped_instances_count))\n",
    "print(\"Percentage of all DBpedia instances: {}\".format(100 * mapped_instances_count/dbpedia_instances_count))"
   ]
  },
  {
   "cell_type": "code",
   "execution_count": 13,
   "metadata": {
    "scrolled": true
   },
   "outputs": [
    {
     "name": "stdout",
     "output_type": "stream",
     "text": [
      "almaMater\n",
      "anthem\n",
      "architect\n",
      "architecturalStyle\n",
      "artist\n",
      "author\n",
      "award\n",
      "basedOn\n",
      "battle\n",
      "birthPlace\n",
      "builder\n",
      "capital\n",
      "ceo\n",
      "child\n",
      "cinematography\n",
      "citizenship\n",
      "city\n",
      "coatOfArms\n",
      "colour\n",
      "composer\n",
      "computingPlatform\n",
      "constellation\n",
      "constructionMaterial\n",
      "continent\n",
      "country\n",
      "county\n",
      "coverArtist\n",
      "cpu\n",
      "creator\n",
      "crewMember\n",
      "crosses\n",
      "currency\n",
      "deathCause\n",
      "deathPlace\n",
      "designer\n",
      "developer\n",
      "diocese\n",
      "director\n",
      "discipline\n",
      "discoverer\n",
      "distributor\n",
      "district\n",
      "doctoralAdvisor\n",
      "doctoralStudent\n",
      "editing\n",
      "editor\n",
      "education\n",
      "employer\n",
      "ethnicity\n",
      "father\n",
      "followedBy\n",
      "follows\n",
      "foundedBy\n",
      "founder\n",
      "fuelSystem\n",
      "gameEngine\n",
      "generalManager\n",
      "genre\n",
      "handedness\n",
      "headquarter\n",
      "highestPoint\n",
      "highwaySystem\n",
      "homeport\n",
      "ideology\n",
      "illustrator\n",
      "industry\n",
      "inflow\n",
      "instrument\n",
      "isPartOf\n",
      "launchSite\n",
      "launchVehicle\n",
      "league\n",
      "license\n",
      "locatedInArea\n",
      "maintainedBy\n",
      "manager\n",
      "manufacturer\n",
      "mother\n",
      "movement\n",
      "musicBy\n",
      "musicalArtist\n",
      "namedAfter\n",
      "occupation\n",
      "originalLanguage\n",
      "owner\n",
      "party\n",
      "placeOfBurial\n",
      "primeMinister\n",
      "province\n",
      "recordLabel\n",
      "religion\n",
      "residence\n",
      "settlement\n",
      "spouse\n",
      "starring\n",
      "taoiseach\n",
      "team\n",
      "terytCode\n"
     ]
    }
   ],
   "source": [
    "mapped_obj_instances = set()\n",
    "for mapped_prop in mapped_object_properties[\"DBpediaProp\"]:\n",
    "    prop = mapped_prop.split(\"/\")[-1]\n",
    "    print(prop)\n",
    "    query = \"\"\"\n",
    "        SELECT DISTINCT ?item\n",
    "        WHERE {\n",
    "            ?item dbo:\"\"\" + prop + \"\"\" [] .\n",
    "        }\n",
    "    \"\"\"\n",
    "    results_df = run_query(dbpedia_sparql, query)\n",
    "    if not results_df.empty:\n",
    "        mapped_obj_instances.update(list(results_df[\"item.value\"]))"
   ]
  },
  {
   "cell_type": "code",
   "execution_count": 14,
   "metadata": {},
   "outputs": [
    {
     "name": "stdout",
     "output_type": "stream",
     "text": [
      "466866 instances from DBpedia have an object property matched to a property in Wikidata.\n",
      "Percentage of all DBpedia instances: 8.504509138960028\n"
     ]
    }
   ],
   "source": [
    "mapped_obj_instances_count = len(mapped_obj_instances)\n",
    "print(\"{} instances from DBpedia have an object property matched to a property in Wikidata.\".format(mapped_obj_instances_count))\n",
    "print(\"Percentage of all DBpedia instances: {}\".format(100 * mapped_obj_instances_count/dbpedia_instances_count))"
   ]
  },
  {
   "cell_type": "markdown",
   "metadata": {},
   "source": [
    "# 2. Inverse, Symmetric, Transitive Properties"
   ]
  },
  {
   "cell_type": "markdown",
   "metadata": {},
   "source": [
    "## 2.1. Inverse properties"
   ]
  },
  {
   "cell_type": "markdown",
   "metadata": {},
   "source": [
    "### 2.1.1. Determine inverse properties"
   ]
  },
  {
   "cell_type": "markdown",
   "metadata": {},
   "source": [
    "Query inverseOf properties from Wikidata"
   ]
  },
  {
   "cell_type": "code",
   "execution_count": 15,
   "metadata": {},
   "outputs": [
    {
     "data": {
      "text/html": [
       "<div>\n",
       "<style scoped>\n",
       "    .dataframe tbody tr th:only-of-type {\n",
       "        vertical-align: middle;\n",
       "    }\n",
       "\n",
       "    .dataframe tbody tr th {\n",
       "        vertical-align: top;\n",
       "    }\n",
       "\n",
       "    .dataframe thead th {\n",
       "        text-align: right;\n",
       "    }\n",
       "</style>\n",
       "<table border=\"1\" class=\"dataframe\">\n",
       "  <thead>\n",
       "    <tr style=\"text-align: right;\">\n",
       "      <th></th>\n",
       "      <th>WikidataProperty</th>\n",
       "      <th>WikidataInvProperty</th>\n",
       "    </tr>\n",
       "  </thead>\n",
       "  <tbody>\n",
       "    <tr>\n",
       "      <th>0</th>\n",
       "      <td>http://www.wikidata.org/entity/P2499</td>\n",
       "      <td>http://www.wikidata.org/entity/P2500</td>\n",
       "    </tr>\n",
       "    <tr>\n",
       "      <th>1</th>\n",
       "      <td>http://www.wikidata.org/entity/P2502</td>\n",
       "      <td>http://www.wikidata.org/entity/P2501</td>\n",
       "    </tr>\n",
       "    <tr>\n",
       "      <th>2</th>\n",
       "      <td>http://www.wikidata.org/entity/P2501</td>\n",
       "      <td>http://www.wikidata.org/entity/P2502</td>\n",
       "    </tr>\n",
       "    <tr>\n",
       "      <th>3</th>\n",
       "      <td>http://www.wikidata.org/entity/P3148</td>\n",
       "      <td>http://www.wikidata.org/entity/P2568</td>\n",
       "    </tr>\n",
       "    <tr>\n",
       "      <th>4</th>\n",
       "      <td>http://www.wikidata.org/entity/P2579</td>\n",
       "      <td>http://www.wikidata.org/entity/P2578</td>\n",
       "    </tr>\n",
       "  </tbody>\n",
       "</table>\n",
       "</div>"
      ],
      "text/plain": [
       "                       WikidataProperty                   WikidataInvProperty\n",
       "0  http://www.wikidata.org/entity/P2499  http://www.wikidata.org/entity/P2500\n",
       "1  http://www.wikidata.org/entity/P2502  http://www.wikidata.org/entity/P2501\n",
       "2  http://www.wikidata.org/entity/P2501  http://www.wikidata.org/entity/P2502\n",
       "3  http://www.wikidata.org/entity/P3148  http://www.wikidata.org/entity/P2568\n",
       "4  http://www.wikidata.org/entity/P2579  http://www.wikidata.org/entity/P2578"
      ]
     },
     "execution_count": 15,
     "metadata": {},
     "output_type": "execute_result"
    }
   ],
   "source": [
    "#Retrieve all inverse properties from Wikidata\n",
    "query = \"\"\"\n",
    "    PREFIX  wikibase:  <http://wikiba.se/ontology#>\n",
    "    PREFIX        bd:  <http://www.bigdata.com/rdf#>\n",
    "    \n",
    "    SELECT ?prop ?invProp \n",
    "    WHERE{\n",
    "      ?prop wdt:P1696 ?invProp .\n",
    "      FILTER (?prop != ?invProp)\n",
    "      SERVICE wikibase:label { bd:serviceParam  wikibase:language  \"en\" } .\n",
    "      }\n",
    "\"\"\"\n",
    "results_df = run_query(wikidata_sparql, query)\n",
    "wiki_inverse_prop = results_df[[\"prop.value\", \"invProp.value\"]]\n",
    "wiki_inverse_prop.columns = [\"WikidataProperty\", \"WikidataInvProperty\"]\n",
    "wiki_inverse_prop.head()"
   ]
  },
  {
   "cell_type": "code",
   "execution_count": 16,
   "metadata": {},
   "outputs": [
    {
     "name": "stdout",
     "output_type": "stream",
     "text": [
      "Queried 136 inverseOf pairs of properties from Wikidata.\n"
     ]
    }
   ],
   "source": [
    "wiki_inverse_prop_count = len(wiki_inverse_prop)\n",
    "print(\"Queried {} inverseOf pairs of properties from Wikidata.\".format(wiki_inverse_prop_count))"
   ]
  },
  {
   "cell_type": "markdown",
   "metadata": {},
   "source": [
    "Compute how many DBpedia properties are mapped to inverseOf properties in Wikidata"
   ]
  },
  {
   "cell_type": "code",
   "execution_count": 17,
   "metadata": {},
   "outputs": [
    {
     "data": {
      "text/html": [
       "<div>\n",
       "<style scoped>\n",
       "    .dataframe tbody tr th:only-of-type {\n",
       "        vertical-align: middle;\n",
       "    }\n",
       "\n",
       "    .dataframe tbody tr th {\n",
       "        vertical-align: top;\n",
       "    }\n",
       "\n",
       "    .dataframe thead th {\n",
       "        text-align: right;\n",
       "    }\n",
       "</style>\n",
       "<table border=\"1\" class=\"dataframe\">\n",
       "  <thead>\n",
       "    <tr style=\"text-align: right;\">\n",
       "      <th></th>\n",
       "      <th>DBpediaProp</th>\n",
       "      <th>DBPediaPropLabel</th>\n",
       "      <th>WikidataProp</th>\n",
       "      <th>WikidataPropLabel</th>\n",
       "      <th>DBpediaInvProp</th>\n",
       "      <th>DBpediaInvPropLabel</th>\n",
       "      <th>WikidataInvProp</th>\n",
       "      <th>WikidataInvPropLabel</th>\n",
       "    </tr>\n",
       "  </thead>\n",
       "  <tbody>\n",
       "    <tr>\n",
       "      <th>0</th>\n",
       "      <td>http://dbpedia.org/ontology/child</td>\n",
       "      <td>child</td>\n",
       "      <td>http://www.wikidata.org/entity/P40</td>\n",
       "      <td>child</td>\n",
       "      <td>http://dbpedia.org/ontology/father</td>\n",
       "      <td>father</td>\n",
       "      <td>http://www.wikidata.org/entity/P22</td>\n",
       "      <td>father</td>\n",
       "    </tr>\n",
       "    <tr>\n",
       "      <th>1</th>\n",
       "      <td>http://dbpedia.org/ontology/child</td>\n",
       "      <td>child</td>\n",
       "      <td>http://www.wikidata.org/entity/P40</td>\n",
       "      <td>child</td>\n",
       "      <td>http://dbpedia.org/ontology/mother</td>\n",
       "      <td>mother</td>\n",
       "      <td>http://www.wikidata.org/entity/P25</td>\n",
       "      <td>mother</td>\n",
       "    </tr>\n",
       "    <tr>\n",
       "      <th>2</th>\n",
       "      <td>http://dbpedia.org/ontology/father</td>\n",
       "      <td>father</td>\n",
       "      <td>http://www.wikidata.org/entity/P22</td>\n",
       "      <td>father</td>\n",
       "      <td>http://dbpedia.org/ontology/child</td>\n",
       "      <td>child</td>\n",
       "      <td>http://www.wikidata.org/entity/P40</td>\n",
       "      <td>child</td>\n",
       "    </tr>\n",
       "    <tr>\n",
       "      <th>3</th>\n",
       "      <td>http://dbpedia.org/ontology/mother</td>\n",
       "      <td>mother</td>\n",
       "      <td>http://www.wikidata.org/entity/P25</td>\n",
       "      <td>mother</td>\n",
       "      <td>http://dbpedia.org/ontology/child</td>\n",
       "      <td>child</td>\n",
       "      <td>http://www.wikidata.org/entity/P40</td>\n",
       "      <td>child</td>\n",
       "    </tr>\n",
       "    <tr>\n",
       "      <th>4</th>\n",
       "      <td>http://dbpedia.org/ontology/followedBy</td>\n",
       "      <td>followed by</td>\n",
       "      <td>http://www.wikidata.org/entity/P156</td>\n",
       "      <td>followed by</td>\n",
       "      <td>http://dbpedia.org/ontology/follows</td>\n",
       "      <td>follows</td>\n",
       "      <td>http://www.wikidata.org/entity/P155</td>\n",
       "      <td>follows</td>\n",
       "    </tr>\n",
       "  </tbody>\n",
       "</table>\n",
       "</div>"
      ],
      "text/plain": [
       "                              DBpediaProp DBPediaPropLabel  \\\n",
       "0       http://dbpedia.org/ontology/child            child   \n",
       "1       http://dbpedia.org/ontology/child            child   \n",
       "2      http://dbpedia.org/ontology/father           father   \n",
       "3      http://dbpedia.org/ontology/mother           mother   \n",
       "4  http://dbpedia.org/ontology/followedBy      followed by   \n",
       "\n",
       "                          WikidataProp WikidataPropLabel  \\\n",
       "0   http://www.wikidata.org/entity/P40             child   \n",
       "1   http://www.wikidata.org/entity/P40             child   \n",
       "2   http://www.wikidata.org/entity/P22            father   \n",
       "3   http://www.wikidata.org/entity/P25            mother   \n",
       "4  http://www.wikidata.org/entity/P156       followed by   \n",
       "\n",
       "                        DBpediaInvProp DBpediaInvPropLabel  \\\n",
       "0   http://dbpedia.org/ontology/father              father   \n",
       "1   http://dbpedia.org/ontology/mother              mother   \n",
       "2    http://dbpedia.org/ontology/child               child   \n",
       "3    http://dbpedia.org/ontology/child               child   \n",
       "4  http://dbpedia.org/ontology/follows             follows   \n",
       "\n",
       "                       WikidataInvProp WikidataInvPropLabel  \n",
       "0   http://www.wikidata.org/entity/P22               father  \n",
       "1   http://www.wikidata.org/entity/P25               mother  \n",
       "2   http://www.wikidata.org/entity/P40                child  \n",
       "3   http://www.wikidata.org/entity/P40                child  \n",
       "4  http://www.wikidata.org/entity/P155              follows  "
      ]
     },
     "execution_count": 17,
     "metadata": {},
     "output_type": "execute_result"
    }
   ],
   "source": [
    "dbpedia_inverse_prop = list()\n",
    "for idx in range(len(wiki_inverse_prop)):\n",
    "    wiki_prop = wiki_inverse_prop[\"WikidataProperty\"].iloc[idx]\n",
    "    wiki_inv_prop = wiki_inverse_prop[\"WikidataInvProperty\"].iloc[idx]\n",
    "    dbpedia_prop_idx = mapped_object_properties[mapped_object_properties[\"WikidataProp\"]==wiki_prop][\"DBpediaProp\"].index.tolist()\n",
    "    dbpedia_inv_prop_idx = mapped_object_properties[mapped_object_properties[\"WikidataProp\"]==wiki_inv_prop][\"DBpediaProp\"].index.tolist()\n",
    "    if dbpedia_prop_idx and dbpedia_inv_prop_idx:\n",
    "        dbpedia_prop_idx = int(dbpedia_prop_idx[0])\n",
    "        dbpedia_inv_prop_idx = int(dbpedia_inv_prop_idx[0])\n",
    "        dbpedia_inverse_prop.append(list(mapped_object_properties.iloc[dbpedia_prop_idx]) +\n",
    "              list(mapped_object_properties.iloc[dbpedia_inv_prop_idx]))\n",
    "        \n",
    "mapped_inverse_properties = pd.DataFrame(dbpedia_inverse_prop,\n",
    "                                        columns = [\"DBpediaProp\", \"DBPediaPropLabel\", \n",
    "                                                  \"WikidataProp\", \"WikidataPropLabel\",\n",
    "                                                  \"DBpediaInvProp\", \"DBpediaInvPropLabel\",\n",
    "                                                  \"WikidataInvProp\", \"WikidataInvPropLabel\"])\n",
    "\n",
    "mapped_inverse_properties.reset_index(inplace=True, drop=True)\n",
    "mapped_inverse_properties.head()"
   ]
  },
  {
   "cell_type": "code",
   "execution_count": 18,
   "metadata": {},
   "outputs": [
    {
     "name": "stdout",
     "output_type": "stream",
     "text": [
      "There are 8 DBpedia properties mapped to a property in Wikidata marked as inverseOf.\n"
     ]
    }
   ],
   "source": [
    "mapped_inverse_prop_count = len(mapped_inverse_properties)\n",
    "print(\"There are {} DBpedia properties mapped to a property in Wikidata marked as inverseOf.\".format(\n",
    "    mapped_inverse_prop_count))"
   ]
  },
  {
   "cell_type": "code",
   "execution_count": 19,
   "metadata": {},
   "outputs": [],
   "source": [
    "mapped_inverse_properties_file = \"../Data/interim/DBpedia/properties/DBpedia_Wikidata_mapped_inverse_prop.csv\"\n",
    "mapped_inverse_properties.to_csv(mapped_inverse_properties_file, index = False)"
   ]
  },
  {
   "cell_type": "markdown",
   "metadata": {},
   "source": [
    "### 2.1.2. Compute percentage of mapped instances with inverse properties"
   ]
  },
  {
   "cell_type": "markdown",
   "metadata": {},
   "source": [
    "Compute percentage of instances with mapped inverse properties"
   ]
  },
  {
   "cell_type": "code",
   "execution_count": 20,
   "metadata": {
    "scrolled": true
   },
   "outputs": [
    {
     "name": "stdout",
     "output_type": "stream",
     "text": [
      "child\n",
      "child\n",
      "father\n",
      "mother\n",
      "followedBy\n",
      "follows\n",
      "doctoralStudent\n",
      "doctoralAdvisor\n"
     ]
    }
   ],
   "source": [
    "mapped_inverse_instances = set()\n",
    "for inverse_prop in mapped_inverse_properties[\"DBpediaProp\"]:\n",
    "    prop = inverse_prop.split(\"/\")[-1]\n",
    "    print(prop)\n",
    "    query = \"\"\"\n",
    "        SELECT DISTINCT ?item\n",
    "        WHERE {\n",
    "            ?item dbo:\"\"\" + prop + \"\"\" [] .\n",
    "        }\n",
    "     \"\"\"\n",
    "    results_df = run_query(dbpedia_sparql, query)\n",
    "    if not results_df.empty:\n",
    "        mapped_inverse_instances.update(list(results_df[\"item.value\"]))"
   ]
  },
  {
   "cell_type": "code",
   "execution_count": 21,
   "metadata": {},
   "outputs": [
    {
     "name": "stdout",
     "output_type": "stream",
     "text": [
      "16507 instances from DBpedia have an object property matched to an inverse property in Wikidata.\n",
      "Percentage of DBpedia instances with mapped inverse properties (out of all DBpedia instances with mapped properties): 2.64372565600656\n",
      "Percentage of DBpedia instances with mapped inverse properties (out of all DBpedia instances with mapped object properties) : 3.535704034990768\n",
      "Percentage of DBpedia instances with mapped inverse properties (out of all DBpedia instances) : 0.3006942727823684\n"
     ]
    }
   ],
   "source": [
    "mapped_inverse_instances_count = len(mapped_inverse_instances)\n",
    "print(\"{} instances from DBpedia have an object property matched to an inverse property in Wikidata.\".format(\n",
    "    mapped_inverse_instances_count))\n",
    "print(\"Percentage of DBpedia instances with mapped inverse properties (out of all DBpedia instances with mapped properties): {}\"\\\n",
    "      .format(100 * mapped_inverse_instances_count/mapped_instances_count))\n",
    "print(\"Percentage of DBpedia instances with mapped inverse properties (out of all DBpedia instances with mapped object properties) : {}\"\\\n",
    "      .format(100 * mapped_inverse_instances_count/mapped_obj_instances_count))\n",
    "print(\"Percentage of DBpedia instances with mapped inverse properties (out of all DBpedia instances) : {}\"\\\n",
    "      .format(100 * mapped_inverse_instances_count/dbpedia_instances_count))"
   ]
  },
  {
   "cell_type": "markdown",
   "metadata": {},
   "source": [
    "## 2.2. Symmetric properties"
   ]
  },
  {
   "cell_type": "markdown",
   "metadata": {},
   "source": [
    "### 2.2.1. Determine symmetric properties"
   ]
  },
  {
   "cell_type": "markdown",
   "metadata": {},
   "source": [
    "Query symmetric properties from Wikidata"
   ]
  },
  {
   "cell_type": "code",
   "execution_count": 22,
   "metadata": {},
   "outputs": [
    {
     "data": {
      "text/html": [
       "<div>\n",
       "<style scoped>\n",
       "    .dataframe tbody tr th:only-of-type {\n",
       "        vertical-align: middle;\n",
       "    }\n",
       "\n",
       "    .dataframe tbody tr th {\n",
       "        vertical-align: top;\n",
       "    }\n",
       "\n",
       "    .dataframe thead th {\n",
       "        text-align: right;\n",
       "    }\n",
       "</style>\n",
       "<table border=\"1\" class=\"dataframe\">\n",
       "  <thead>\n",
       "    <tr style=\"text-align: right;\">\n",
       "      <th></th>\n",
       "      <th>WikidataProperty</th>\n",
       "    </tr>\n",
       "  </thead>\n",
       "  <tbody>\n",
       "    <tr>\n",
       "      <th>0</th>\n",
       "      <td>http://www.wikidata.org/entity/P460</td>\n",
       "    </tr>\n",
       "    <tr>\n",
       "      <th>1</th>\n",
       "      <td>http://www.wikidata.org/entity/P1560</td>\n",
       "    </tr>\n",
       "    <tr>\n",
       "      <th>2</th>\n",
       "      <td>http://www.wikidata.org/entity/P1889</td>\n",
       "    </tr>\n",
       "    <tr>\n",
       "      <th>3</th>\n",
       "      <td>http://www.wikidata.org/entity/P2743</td>\n",
       "    </tr>\n",
       "    <tr>\n",
       "      <th>4</th>\n",
       "      <td>http://www.wikidata.org/entity/P2959</td>\n",
       "    </tr>\n",
       "  </tbody>\n",
       "</table>\n",
       "</div>"
      ],
      "text/plain": [
       "                       WikidataProperty\n",
       "0   http://www.wikidata.org/entity/P460\n",
       "1  http://www.wikidata.org/entity/P1560\n",
       "2  http://www.wikidata.org/entity/P1889\n",
       "3  http://www.wikidata.org/entity/P2743\n",
       "4  http://www.wikidata.org/entity/P2959"
      ]
     },
     "execution_count": 22,
     "metadata": {},
     "output_type": "execute_result"
    }
   ],
   "source": [
    "#Retrieve all symmetric properties from Wikidata\n",
    "query = \"\"\"\n",
    "    PREFIX  wikibase:  <http://wikiba.se/ontology#>\n",
    "    PREFIX        bd:  <http://www.bigdata.com/rdf#>\n",
    "    \n",
    "    SELECT ?prop \n",
    "    WHERE{\n",
    "      ?prop wdt:P31 wd:Q18647518 .\n",
    "      SERVICE wikibase:label { bd:serviceParam  wikibase:language  \"en\" } .\n",
    "      }\n",
    "\"\"\"\n",
    "results_df = run_query(wikidata_sparql, query)\n",
    "wiki_symmetric_prop = results_df[[\"prop.value\"]]\n",
    "wiki_symmetric_prop.columns = [\"WikidataProperty\"]\n",
    "wiki_symmetric_prop.head()"
   ]
  },
  {
   "cell_type": "code",
   "execution_count": 23,
   "metadata": {},
   "outputs": [
    {
     "name": "stdout",
     "output_type": "stream",
     "text": [
      "Queried 8 symmetric properties from Wikidata.\n"
     ]
    }
   ],
   "source": [
    "wiki_symmetric_prop_count = len(wiki_symmetric_prop)\n",
    "print(\"Queried {} symmetric properties from Wikidata.\".format(wiki_symmetric_prop_count))"
   ]
  },
  {
   "cell_type": "markdown",
   "metadata": {},
   "source": [
    "Compute how many DBpedia properties are mapped to symmetric properties in Wikidata"
   ]
  },
  {
   "cell_type": "code",
   "execution_count": 24,
   "metadata": {},
   "outputs": [
    {
     "data": {
      "text/html": [
       "<div>\n",
       "<style scoped>\n",
       "    .dataframe tbody tr th:only-of-type {\n",
       "        vertical-align: middle;\n",
       "    }\n",
       "\n",
       "    .dataframe tbody tr th {\n",
       "        vertical-align: top;\n",
       "    }\n",
       "\n",
       "    .dataframe thead th {\n",
       "        text-align: right;\n",
       "    }\n",
       "</style>\n",
       "<table border=\"1\" class=\"dataframe\">\n",
       "  <thead>\n",
       "    <tr style=\"text-align: right;\">\n",
       "      <th></th>\n",
       "      <th>DBpediaProp</th>\n",
       "      <th>DBpediaPropLabel</th>\n",
       "      <th>WikidataProp</th>\n",
       "      <th>WikidataPropLabel</th>\n",
       "    </tr>\n",
       "  </thead>\n",
       "  <tbody>\n",
       "  </tbody>\n",
       "</table>\n",
       "</div>"
      ],
      "text/plain": [
       "Empty DataFrame\n",
       "Columns: [DBpediaProp, DBpediaPropLabel, WikidataProp, WikidataPropLabel]\n",
       "Index: []"
      ]
     },
     "execution_count": 24,
     "metadata": {},
     "output_type": "execute_result"
    }
   ],
   "source": [
    "mapped_symmetric_properties = mapped_object_properties[mapped_object_properties[\"WikidataProp\"].isin(\n",
    "    wiki_symmetric_prop[\"WikidataProperty\"])]\n",
    "mapped_symmetric_properties.reset_index(inplace=True, drop=True)\n",
    "mapped_symmetric_properties.head()"
   ]
  },
  {
   "cell_type": "code",
   "execution_count": 25,
   "metadata": {},
   "outputs": [
    {
     "name": "stdout",
     "output_type": "stream",
     "text": [
      "There are 0 DBpedia properties mapped to a property in Wikidata marked as symmetric.\n"
     ]
    }
   ],
   "source": [
    "mapped_symmetric_prop_count = len(mapped_symmetric_properties)\n",
    "print(\"There are {} DBpedia properties mapped to a property in Wikidata marked as symmetric.\".format(\n",
    "    mapped_symmetric_prop_count))"
   ]
  },
  {
   "cell_type": "code",
   "execution_count": 26,
   "metadata": {},
   "outputs": [],
   "source": [
    "mapped_symmetric_properties_file = \"../Data/interim/DBpedia/properties/DBpedia_Wikidata_mapped_symmetric_prop.csv\"\n",
    "mapped_symmetric_properties.to_csv(mapped_symmetric_properties_file, index = False)"
   ]
  },
  {
   "cell_type": "markdown",
   "metadata": {},
   "source": [
    "### 2.2.2. Compute percentage of mapped instances with symmetric properties"
   ]
  },
  {
   "cell_type": "markdown",
   "metadata": {},
   "source": [
    "Compute percentage of instances with mapped symmetric properties"
   ]
  },
  {
   "cell_type": "code",
   "execution_count": 27,
   "metadata": {},
   "outputs": [],
   "source": [
    "mapped_symmetric_instances = set()\n",
    "for symmetric_prop in mapped_symmetric_properties[\"DBpediaProp\"]:\n",
    "    prop = symmetric_prop.split(\"/\")[-1]\n",
    "    print(prop)\n",
    "    query = \"\"\"\n",
    "        SELECT DISTINCT ?item\n",
    "        WHERE {\n",
    "            ?item dbo:\"\"\" + prop + \"\"\" [] .\n",
    "        }\n",
    "     \"\"\"\n",
    "    results_df = run_query(dbpedia_sparql, query)\n",
    "    if not results_df.empty:\n",
    "        mapped_symmetric_instances.update(list(results_df[\"item.value\"]))"
   ]
  },
  {
   "cell_type": "code",
   "execution_count": 28,
   "metadata": {},
   "outputs": [
    {
     "name": "stdout",
     "output_type": "stream",
     "text": [
      "0 instances from DBpedia have an object property matched to a symmetric property in Wikidata.\n",
      "Percentage of DBpedia instances with mapped symmetric properties (out of all DBpedia instances with mapped properties): 0.0\n",
      "Percentage of DBpedia instances with mapped symmetric properties (out of all DBpedia instances with mapped object properties) : 0.0\n",
      "Percentage of DBpedia instances with mapped symmetric properties (out of all DBpedia instances): 0.0\n"
     ]
    }
   ],
   "source": [
    "mapped_symmetric_instances_count = len(mapped_symmetric_instances)\n",
    "print(\"{} instances from DBpedia have an object property matched to a symmetric property in Wikidata.\".format(\n",
    "    mapped_symmetric_instances_count))\n",
    "print(\"Percentage of DBpedia instances with mapped symmetric properties (out of all DBpedia instances with mapped properties): {}\"\\\n",
    "      .format(100 * mapped_symmetric_instances_count/mapped_instances_count))\n",
    "print(\"Percentage of DBpedia instances with mapped symmetric properties (out of all DBpedia instances with mapped object properties) : {}\"\\\n",
    "      .format(100 * mapped_symmetric_instances_count/mapped_obj_instances_count))\n",
    "print(\"Percentage of DBpedia instances with mapped symmetric properties (out of all DBpedia instances): {}\"\\\n",
    "      .format(100 * mapped_symmetric_instances_count/dbpedia_instances_count))"
   ]
  },
  {
   "cell_type": "markdown",
   "metadata": {},
   "source": [
    "## 2.3. Transitive properties"
   ]
  },
  {
   "cell_type": "markdown",
   "metadata": {},
   "source": [
    "### 2.3.1. Determine transitive properties"
   ]
  },
  {
   "cell_type": "markdown",
   "metadata": {},
   "source": [
    "Query transitive properties from Wikidata"
   ]
  },
  {
   "cell_type": "code",
   "execution_count": 29,
   "metadata": {},
   "outputs": [
    {
     "data": {
      "text/html": [
       "<div>\n",
       "<style scoped>\n",
       "    .dataframe tbody tr th:only-of-type {\n",
       "        vertical-align: middle;\n",
       "    }\n",
       "\n",
       "    .dataframe tbody tr th {\n",
       "        vertical-align: top;\n",
       "    }\n",
       "\n",
       "    .dataframe thead th {\n",
       "        text-align: right;\n",
       "    }\n",
       "</style>\n",
       "<table border=\"1\" class=\"dataframe\">\n",
       "  <thead>\n",
       "    <tr style=\"text-align: right;\">\n",
       "      <th></th>\n",
       "      <th>WikidataProperty</th>\n",
       "    </tr>\n",
       "  </thead>\n",
       "  <tbody>\n",
       "    <tr>\n",
       "      <th>0</th>\n",
       "      <td>http://www.wikidata.org/entity/P131</td>\n",
       "    </tr>\n",
       "    <tr>\n",
       "      <th>1</th>\n",
       "      <td>http://www.wikidata.org/entity/P276</td>\n",
       "    </tr>\n",
       "    <tr>\n",
       "      <th>2</th>\n",
       "      <td>http://www.wikidata.org/entity/P279</td>\n",
       "    </tr>\n",
       "    <tr>\n",
       "      <th>3</th>\n",
       "      <td>http://www.wikidata.org/entity/P361</td>\n",
       "    </tr>\n",
       "    <tr>\n",
       "      <th>4</th>\n",
       "      <td>http://www.wikidata.org/entity/P403</td>\n",
       "    </tr>\n",
       "  </tbody>\n",
       "</table>\n",
       "</div>"
      ],
      "text/plain": [
       "                      WikidataProperty\n",
       "0  http://www.wikidata.org/entity/P131\n",
       "1  http://www.wikidata.org/entity/P276\n",
       "2  http://www.wikidata.org/entity/P279\n",
       "3  http://www.wikidata.org/entity/P361\n",
       "4  http://www.wikidata.org/entity/P403"
      ]
     },
     "execution_count": 29,
     "metadata": {},
     "output_type": "execute_result"
    }
   ],
   "source": [
    "#Retrieve all symmetric properties from Wikidata\n",
    "query = \"\"\"\n",
    "    PREFIX  wikibase:  <http://wikiba.se/ontology#>\n",
    "    PREFIX        bd:  <http://www.bigdata.com/rdf#>\n",
    "    \n",
    "    SELECT ?prop \n",
    "    WHERE{\n",
    "      ?prop wdt:P31 wd:Q18647515 .\n",
    "      SERVICE wikibase:label { bd:serviceParam  wikibase:language  \"en\" } .\n",
    "      }\n",
    "\"\"\"\n",
    "results_df = run_query(wikidata_sparql, query)\n",
    "wiki_transitive_prop = results_df[[\"prop.value\"]]\n",
    "wiki_transitive_prop.columns = [\"WikidataProperty\"]\n",
    "wiki_transitive_prop.head()"
   ]
  },
  {
   "cell_type": "code",
   "execution_count": 30,
   "metadata": {},
   "outputs": [
    {
     "name": "stdout",
     "output_type": "stream",
     "text": [
      "Queried 15 symmetric properties from Wikidata.\n"
     ]
    }
   ],
   "source": [
    "wiki_transitive_prop_count = len(wiki_transitive_prop)\n",
    "print(\"Queried {} symmetric properties from Wikidata.\".format(wiki_transitive_prop_count))"
   ]
  },
  {
   "cell_type": "markdown",
   "metadata": {},
   "source": [
    "Compute how many DBpedia properties are mapped to transitive properties in Wikidata"
   ]
  },
  {
   "cell_type": "code",
   "execution_count": 31,
   "metadata": {},
   "outputs": [
    {
     "data": {
      "text/html": [
       "<div>\n",
       "<style scoped>\n",
       "    .dataframe tbody tr th:only-of-type {\n",
       "        vertical-align: middle;\n",
       "    }\n",
       "\n",
       "    .dataframe tbody tr th {\n",
       "        vertical-align: top;\n",
       "    }\n",
       "\n",
       "    .dataframe thead th {\n",
       "        text-align: right;\n",
       "    }\n",
       "</style>\n",
       "<table border=\"1\" class=\"dataframe\">\n",
       "  <thead>\n",
       "    <tr style=\"text-align: right;\">\n",
       "      <th></th>\n",
       "      <th>DBpediaProp</th>\n",
       "      <th>DBpediaPropLabel</th>\n",
       "      <th>WikidataProp</th>\n",
       "      <th>WikidataPropLabel</th>\n",
       "    </tr>\n",
       "  </thead>\n",
       "  <tbody>\n",
       "    <tr>\n",
       "      <th>0</th>\n",
       "      <td>http://dbpedia.org/ontology/city</td>\n",
       "      <td>city</td>\n",
       "      <td>http://www.wikidata.org/entity/P131</td>\n",
       "      <td>located in the administrative territorial entity</td>\n",
       "    </tr>\n",
       "    <tr>\n",
       "      <th>1</th>\n",
       "      <td>http://dbpedia.org/ontology/county</td>\n",
       "      <td>county</td>\n",
       "      <td>http://www.wikidata.org/entity/P131</td>\n",
       "      <td>located in the administrative territorial entity</td>\n",
       "    </tr>\n",
       "    <tr>\n",
       "      <th>2</th>\n",
       "      <td>http://dbpedia.org/ontology/district</td>\n",
       "      <td>district</td>\n",
       "      <td>http://www.wikidata.org/entity/P131</td>\n",
       "      <td>located in the administrative territorial entity</td>\n",
       "    </tr>\n",
       "    <tr>\n",
       "      <th>3</th>\n",
       "      <td>http://dbpedia.org/ontology/isPartOf</td>\n",
       "      <td>is part of</td>\n",
       "      <td>http://www.wikidata.org/entity/P361</td>\n",
       "      <td>part of</td>\n",
       "    </tr>\n",
       "    <tr>\n",
       "      <th>4</th>\n",
       "      <td>http://dbpedia.org/ontology/locatedInArea</td>\n",
       "      <td>located in area</td>\n",
       "      <td>http://www.wikidata.org/entity/P131</td>\n",
       "      <td>located in the administrative territorial entity</td>\n",
       "    </tr>\n",
       "  </tbody>\n",
       "</table>\n",
       "</div>"
      ],
      "text/plain": [
       "                                 DBpediaProp DBpediaPropLabel  \\\n",
       "0           http://dbpedia.org/ontology/city             city   \n",
       "1         http://dbpedia.org/ontology/county           county   \n",
       "2       http://dbpedia.org/ontology/district         district   \n",
       "3       http://dbpedia.org/ontology/isPartOf       is part of   \n",
       "4  http://dbpedia.org/ontology/locatedInArea  located in area   \n",
       "\n",
       "                          WikidataProp  \\\n",
       "0  http://www.wikidata.org/entity/P131   \n",
       "1  http://www.wikidata.org/entity/P131   \n",
       "2  http://www.wikidata.org/entity/P131   \n",
       "3  http://www.wikidata.org/entity/P361   \n",
       "4  http://www.wikidata.org/entity/P131   \n",
       "\n",
       "                                  WikidataPropLabel  \n",
       "0  located in the administrative territorial entity  \n",
       "1  located in the administrative territorial entity  \n",
       "2  located in the administrative territorial entity  \n",
       "3                                           part of  \n",
       "4  located in the administrative territorial entity  "
      ]
     },
     "execution_count": 31,
     "metadata": {},
     "output_type": "execute_result"
    }
   ],
   "source": [
    "mapped_transitive_properties = mapped_object_properties[mapped_object_properties[\"WikidataProp\"].isin(\n",
    "    wiki_transitive_prop[\"WikidataProperty\"])]\n",
    "mapped_transitive_properties.reset_index(inplace=True, drop=True)\n",
    "mapped_transitive_properties.head()"
   ]
  },
  {
   "cell_type": "code",
   "execution_count": 32,
   "metadata": {},
   "outputs": [
    {
     "name": "stdout",
     "output_type": "stream",
     "text": [
      "There are 7 DBpedia properties mapped to a property in Wikidata marked as transitive.\n"
     ]
    }
   ],
   "source": [
    "mapped_transitive_prop_count = len(mapped_transitive_properties)\n",
    "print(\"There are {} DBpedia properties mapped to a property in Wikidata marked as transitive.\".format(\n",
    "    mapped_transitive_prop_count))"
   ]
  },
  {
   "cell_type": "code",
   "execution_count": 33,
   "metadata": {},
   "outputs": [],
   "source": [
    "mapped_transitive_properties_file = \"../Data/interim/DBpedia/properties/DBpedia_Wikidata_mapped_transitive_prop.csv\"\n",
    "mapped_transitive_properties.to_csv(mapped_transitive_properties_file, index = False)"
   ]
  },
  {
   "cell_type": "markdown",
   "metadata": {},
   "source": [
    "### 2.3.2. Compute percentage of mapped instances with transitive properties"
   ]
  },
  {
   "cell_type": "markdown",
   "metadata": {},
   "source": [
    "Compute percentage of instances with mapped transitive properties"
   ]
  },
  {
   "cell_type": "code",
   "execution_count": 34,
   "metadata": {
    "scrolled": true
   },
   "outputs": [
    {
     "name": "stdout",
     "output_type": "stream",
     "text": [
      "city\n",
      "county\n",
      "district\n",
      "isPartOf\n",
      "locatedInArea\n",
      "province\n",
      "settlement\n"
     ]
    }
   ],
   "source": [
    "mapped_transitive_instances = set()\n",
    "for transitive_prop in mapped_transitive_properties[\"DBpediaProp\"]:\n",
    "    prop = transitive_prop.split(\"/\")[-1]\n",
    "    print(prop)\n",
    "    query = \"\"\"\n",
    "        SELECT DISTINCT ?item\n",
    "        WHERE {\n",
    "            ?item dbo:\"\"\" + prop + \"\"\" [] .\n",
    "        }\n",
    "     \"\"\"\n",
    "    results_df = run_query(dbpedia_sparql, query)\n",
    "    if not results_df.empty:\n",
    "        mapped_transitive_instances.update(list(results_df[\"item.value\"]))"
   ]
  },
  {
   "cell_type": "code",
   "execution_count": 35,
   "metadata": {},
   "outputs": [
    {
     "name": "stdout",
     "output_type": "stream",
     "text": [
      "57667 instances from DBpedia have an object property matched to a transitive property in Wikidata.\n",
      "Percentage of DBpedia instances with mapped transitive properties (out of all DBpedia instances with mapped properties): 9.23582282697827\n",
      "Percentage of DBpedia instances with mapped transitive properties (out of all DBpedia instances with mapped object properties : 12.351938243521696\n",
      "Percentage of DBpedia instances with mapped symmetric properties (out of all DBpedia instances): 1.0504717167590014\n"
     ]
    }
   ],
   "source": [
    "mapped_transtive_instances_count = len(mapped_transitive_instances)\n",
    "print(\"{} instances from DBpedia have an object property matched to a transitive property in Wikidata.\".format(\n",
    "    mapped_transtive_instances_count))\n",
    "print(\"Percentage of DBpedia instances with mapped transitive properties (out of all DBpedia instances with mapped properties): {}\"\\\n",
    "      .format(100 * mapped_transtive_instances_count/mapped_instances_count))\n",
    "print(\"Percentage of DBpedia instances with mapped transitive properties (out of all DBpedia instances with mapped object properties : {}\"\\\n",
    "      .format(100 * mapped_transtive_instances_count/mapped_obj_instances_count))\n",
    "print(\"Percentage of DBpedia instances with mapped symmetric properties (out of all DBpedia instances): {}\"\\\n",
    "      .format(100 * mapped_transtive_instances_count/dbpedia_instances_count))"
   ]
  },
  {
   "cell_type": "markdown",
   "metadata": {},
   "source": [
    "# 3. Subproperties"
   ]
  },
  {
   "cell_type": "markdown",
   "metadata": {},
   "source": [
    "## 3.1. Query DBpedia subproperties"
   ]
  },
  {
   "cell_type": "code",
   "execution_count": 36,
   "metadata": {},
   "outputs": [],
   "source": [
    "dbpedia_ontology_file = \"../Data/raw/DBpedia/dbpedia_2016-10.nt\""
   ]
  },
  {
   "cell_type": "code",
   "execution_count": 37,
   "metadata": {},
   "outputs": [],
   "source": [
    "import rdflib"
   ]
  },
  {
   "cell_type": "code",
   "execution_count": 38,
   "metadata": {},
   "outputs": [
    {
     "data": {
      "text/plain": [
       "<Graph identifier=N9d4b1a26565144f1999d1eacb6afd8ed (<class 'rdflib.graph.Graph'>)>"
      ]
     },
     "execution_count": 38,
     "metadata": {},
     "output_type": "execute_result"
    }
   ],
   "source": [
    "from rdflib import Graph\n",
    "graph = rdflib.Graph()\n",
    "graph.parse(dbpedia_ontology_file, format = \"nt\")"
   ]
  },
  {
   "cell_type": "code",
   "execution_count": 39,
   "metadata": {},
   "outputs": [
    {
     "data": {
      "text/plain": [
       "b'{\"results\": {\"bindings\": [{\"subProp\": {\"type\": \"uri\", \"value\": \"http://dbpedia.org/ontology/championInDoubleFemale\"}, \"prop\": {\"type\": \"uri\", \"value\": \"http://dbpedia.org/ontology/championInDouble\"}, \"propLabel\": {\"type\": \"literal\", \"value\": \"champion in double\", \"xml:lang\": \"en\"}, \"subPropLabel\": {\"type\": \"literal\", \"value\": \"champion in double female\", \"xml:lang\": \"en\"}}, {\"subProp\": {\"type\": \"uri\", \"value\": \"http://dbpedia.org/ontology/championInDouble\"}, \"prop\": {\"type\": \"uri\", \"value\": \"http://dbpedia.org/ontology/champion\"}, \"propLabel\": {\"type\": \"literal\", \"value\": \"champion\", \"xml:lang\": \"en\"}, \"subPropLabel\": {\"type\": \"literal\", \"value\": \"champion in double\", \"xml:lang\": \"en\"}}, {\"subProp\": {\"type\": \"uri\", \"value\": \"http://dbpedia.org/ontology/maximumDepth\"}, \"prop\": {\"type\": \"uri\", \"value\": \"http://dbpedia.org/ontology/depth\"}, \"propLabel\": {\"type\": \"literal\", \"value\": \"depth (\\xce\\xbc)\", \"xml:lang\": \"en\"}, \"subPropLabel\": {\"type\": \"literal\", \"value\": \"maximum depth (\\xce\\xbc)\", \"xml:lang\": \"en\"}}, {\"subProp\": {\"type\": \"uri\", \"value\": \"http://dbpedia.org/ontology/eastPlace\"}, \"prop\": {\"type\": \"uri\", \"value\": \"http://dbpedia.org/ontology/closeTo\"}, \"propLabel\": {\"type\": \"literal\", \"value\": \"is close to\", \"xml:lang\": \"en\"}, \"subPropLabel\": {\"type\": \"literal\", \"value\": \"east place\", \"xml:lang\": \"en\"}}, {\"subProp\": {\"type\": \"uri\", \"value\": \"http://dbpedia.org/ontology/meshNumber\"}, \"prop\": {\"type\": \"uri\", \"value\": \"http://dbpedia.org/ontology/code\"}, \"propLabel\": {\"type\": \"literal\", \"value\": \"code\", \"xml:lang\": \"en\"}, \"subPropLabel\": {\"type\": \"literal\", \"value\": \"MeSH number\", \"xml:lang\": \"en\"}}, {\"subProp\": {\"type\": \"uri\", \"value\": \"http://dbpedia.org/ontology/politicGovernmentDepartment\"}, \"prop\": {\"type\": \"uri\", \"value\": \"http://dbpedia.org/ontology/Department\"}, \"propLabel\": {\"type\": \"literal\", \"value\": \"department\", \"xml:lang\": \"en\"}, \"subPropLabel\": {\"type\": \"literal\", \"value\": \"politic government department\", \"xml:lang\": \"en\"}}, {\"subProp\": {\"type\": \"uri\", \"value\": \"http://dbpedia.org/ontology/olympicOathSwornByJudge\"}, \"prop\": {\"type\": \"uri\", \"value\": \"http://dbpedia.org/ontology/olympicOathSwornBy\"}, \"propLabel\": {\"type\": \"literal\", \"value\": \"olympic oath sworn by\", \"xml:lang\": \"en\"}, \"subPropLabel\": {\"type\": \"literal\", \"value\": \"olympic oath sworn by judge\", \"xml:lang\": \"en\"}}, {\"subProp\": {\"type\": \"uri\", \"value\": \"http://dbpedia.org/ontology/codeNationalMonument\"}, \"prop\": {\"type\": \"uri\", \"value\": \"http://dbpedia.org/ontology/code\"}, \"propLabel\": {\"type\": \"literal\", \"value\": \"code\", \"xml:lang\": \"en\"}, \"subPropLabel\": {\"type\": \"literal\", \"value\": \"monument code (national)\", \"xml:lang\": \"en\"}}, {\"subProp\": {\"type\": \"uri\", \"value\": \"http://dbpedia.org/ontology/nameInWadeGilesChinese\"}, \"prop\": {\"type\": \"uri\", \"value\": \"http://dbpedia.org/ontology/name\"}, \"propLabel\": {\"type\": \"literal\", \"value\": \"name\", \"xml:lang\": \"en\"}, \"subPropLabel\": {\"type\": \"literal\", \"value\": \"name in the Wade-Giles transscription of Chinese\", \"xml:lang\": \"en\"}}, {\"subProp\": {\"type\": \"uri\", \"value\": \"http://dbpedia.org/ontology/northPlace\"}, \"prop\": {\"type\": \"uri\", \"value\": \"http://dbpedia.org/ontology/closeTo\"}, \"propLabel\": {\"type\": \"literal\", \"value\": \"is close to\", \"xml:lang\": \"en\"}, \"subPropLabel\": {\"type\": \"literal\", \"value\": \"north place\", \"xml:lang\": \"en\"}}, {\"subProp\": {\"type\": \"uri\", \"value\": \"http://dbpedia.org/ontology/latinName\"}, \"prop\": {\"type\": \"uri\", \"value\": \"http://dbpedia.org/ontology/Name\"}, \"propLabel\": {\"type\": \"literal\", \"value\": \"name\", \"xml:lang\": \"en\"}, \"subPropLabel\": {\"type\": \"literal\", \"value\": \"name in latin\", \"xml:lang\": \"en\"}}, {\"subProp\": {\"type\": \"uri\", \"value\": \"http://dbpedia.org/ontology/ofsCode\"}, \"prop\": {\"type\": \"uri\", \"value\": \"http://dbpedia.org/ontology/isoCode\"}, \"propLabel\": {\"type\": \"literal\", \"value\": \"iso code of a place\", \"xml:lang\": \"en\"}, \"subPropLabel\": {\"type\": \"literal\", \"value\": \"ofs code of a settlement\", \"xml:lang\": \"en\"}}, {\"subProp\": {\"type\": \"uri\", \"value\": \"http://dbpedia.org/ontology/dutchPPNCode\"}, \"prop\": {\"type\": \"uri\", \"value\": \"http://dbpedia.org/ontology/code\"}, \"propLabel\": {\"type\": \"literal\", \"value\": \"code\", \"xml:lang\": \"en\"}, \"subPropLabel\": {\"type\": \"literal\", \"value\": \"Dutch PPN code\", \"xml:lang\": \"en\"}}, {\"subProp\": {\"type\": \"uri\", \"value\": \"http://dbpedia.org/ontology/isPartOfMilitaryConflict\"}, \"prop\": {\"type\": \"uri\", \"value\": \"http://dbpedia.org/ontology/isPartOf\"}, \"propLabel\": {\"type\": \"literal\", \"value\": \"is part of\", \"xml:lang\": \"en\"}, \"subPropLabel\": {\"type\": \"literal\", \"value\": \"is part of military conflict\", \"xml:lang\": \"en\"}}, {\"subProp\": {\"type\": \"uri\", \"value\": \"http://dbpedia.org/ontology/northEastPlace\"}, \"prop\": {\"type\": \"uri\", \"value\": \"http://dbpedia.org/ontology/closeTo\"}, \"propLabel\": {\"type\": \"literal\", \"value\": \"is close to\", \"xml:lang\": \"en\"}, \"subPropLabel\": {\"type\": \"literal\", \"value\": \"north-east place\", \"xml:lang\": \"en\"}}, {\"subProp\": {\"type\": \"uri\", \"value\": \"http://dbpedia.org/ontology/ekatteCode\"}, \"prop\": {\"type\": \"uri\", \"value\": \"http://dbpedia.org/ontology/codeSettlement\"}, \"propLabel\": {\"type\": \"literal\", \"value\": \"settlement code\", \"xml:lang\": \"en\"}, \"subPropLabel\": {\"type\": \"literal\", \"value\": \"EKATTE code\", \"xml:lang\": \"en\"}}, {\"subProp\": {\"type\": \"uri\", \"value\": \"http://dbpedia.org/ontology/chorusCharacterInPlay\"}, \"prop\": {\"type\": \"uri\", \"value\": \"http://dbpedia.org/ontology/characterInPlay\"}, \"propLabel\": {\"type\": \"literal\", \"value\": \"character in play\", \"xml:lang\": \"en\"}, \"subPropLabel\": {\"type\": \"literal\", \"value\": \"chorus character in play\", \"xml:lang\": \"en\"}}, {\"subProp\": {\"type\": \"uri\", \"value\": \"http://dbpedia.org/ontology/owningOrganisation\"}, \"prop\": {\"type\": \"uri\", \"value\": \"http://dbpedia.org/ontology/owner\"}, \"propLabel\": {\"type\": \"literal\", \"value\": \"owner\", \"xml:lang\": \"en\"}, \"subPropLabel\": {\"type\": \"literal\", \"value\": \"owning organisation\", \"xml:lang\": \"en\"}}, {\"subProp\": {\"type\": \"uri\", \"value\": \"http://dbpedia.org/ontology/nextEvent\"}, \"prop\": {\"type\": \"uri\", \"value\": \"http://dbpedia.org/ontology/followedBy\"}, \"propLabel\": {\"type\": \"literal\", \"value\": \"followed by\", \"xml:lang\": \"en\"}, \"subPropLabel\": {\"type\": \"literal\", \"value\": \"next event\", \"xml:lang\": \"en\"}}, {\"subProp\": {\"type\": \"uri\", \"value\": \"http://dbpedia.org/ontology/isPartOfWineRegion\"}, \"prop\": {\"type\": \"uri\", \"value\": \"http://dbpedia.org/ontology/isPartOf\"}, \"propLabel\": {\"type\": \"literal\", \"value\": \"is part of\", \"xml:lang\": \"en\"}, \"subPropLabel\": {\"type\": \"literal\", \"value\": \"is part of wine region\", \"xml:lang\": \"en\"}}, {\"subProp\": {\"type\": \"uri\", \"value\": \"http://dbpedia.org/ontology/southPlace\"}, \"prop\": {\"type\": \"uri\", \"value\": \"http://dbpedia.org/ontology/closeTo\"}, \"propLabel\": {\"type\": \"literal\", \"value\": \"is close to\", \"xml:lang\": \"en\"}, \"subPropLabel\": {\"type\": \"literal\", \"value\": \"south place\", \"xml:lang\": \"en\"}}, {\"subProp\": {\"type\": \"uri\", \"value\": \"http://dbpedia.org/ontology/codeIndex\"}, \"prop\": {\"type\": \"uri\", \"value\": \"http://dbpedia.org/ontology/code\"}, \"propLabel\": {\"type\": \"literal\", \"value\": \"code\", \"xml:lang\": \"en\"}, \"subPropLabel\": {\"type\": \"literal\", \"value\": \"code on index\", \"xml:lang\": \"en\"}}, {\"subProp\": {\"type\": \"uri\", \"value\": \"http://dbpedia.org/ontology/senator\"}, \"prop\": {\"type\": \"uri\", \"value\": \"http://dbpedia.org/ontology/MemberOfParliament\"}, \"propLabel\": {\"type\": \"literal\", \"value\": \"member of parliament\", \"xml:lang\": \"en\"}, \"subPropLabel\": {\"type\": \"literal\", \"value\": \"senator\", \"xml:lang\": \"en\"}}, {\"subProp\": {\"type\": \"uri\", \"value\": \"http://dbpedia.org/ontology/championInMixedDouble\"}, \"prop\": {\"type\": \"uri\", \"value\": \"http://dbpedia.org/ontology/championInDouble\"}, \"propLabel\": {\"type\": \"literal\", \"value\": \"champion in double\", \"xml:lang\": \"en\"}, \"subPropLabel\": {\"type\": \"literal\", \"value\": \"champion in mixed double\", \"xml:lang\": \"en\"}}, {\"subProp\": {\"type\": \"uri\", \"value\": \"http://dbpedia.org/ontology/communityIsoCode\"}, \"prop\": {\"type\": \"uri\", \"value\": \"http://dbpedia.org/ontology/isoCode\"}, \"propLabel\": {\"type\": \"literal\", \"value\": \"iso code of a place\", \"xml:lang\": \"en\"}, \"subPropLabel\": {\"type\": \"literal\", \"value\": \"iso code of a community\", \"xml:lang\": \"en\"}}, {\"subProp\": {\"type\": \"uri\", \"value\": \"http://dbpedia.org/ontology/commandant\"}, \"prop\": {\"type\": \"uri\", \"value\": \"http://dbpedia.org/ontology/keyPerson\"}, \"propLabel\": {\"type\": \"literal\", \"value\": \"key person\", \"xml:lang\": \"en\"}, \"subPropLabel\": {\"type\": \"literal\", \"value\": \"commandant\", \"xml:lang\": \"en\"}}, {\"subProp\": {\"type\": \"uri\", \"value\": \"http://dbpedia.org/ontology/isPartOfAnatomicalStructure\"}, \"prop\": {\"type\": \"uri\", \"value\": \"http://dbpedia.org/ontology/isPartOf\"}, \"propLabel\": {\"type\": \"literal\", \"value\": \"is part of\", \"xml:lang\": \"en\"}, \"subPropLabel\": {\"type\": \"literal\", \"value\": \"is part of anatomical structure\", \"xml:lang\": \"en\"}}, {\"subProp\": {\"type\": \"uri\", \"value\": \"http://dbpedia.org/ontology/messierName\"}, \"prop\": {\"type\": \"uri\", \"value\": \"http://dbpedia.org/ontology/name\"}, \"propLabel\": {\"type\": \"literal\", \"value\": \"name\", \"xml:lang\": \"en\"}, \"subPropLabel\": {\"type\": \"literal\", \"value\": \"Messier name\", \"xml:lang\": \"en\"}}, {\"subProp\": {\"type\": \"uri\", \"value\": \"http://dbpedia.org/ontology/dutchArtworkCode\"}, \"prop\": {\"type\": \"uri\", \"value\": \"http://dbpedia.org/ontology/code\"}, \"propLabel\": {\"type\": \"literal\", \"value\": \"code\", \"xml:lang\": \"en\"}, \"subPropLabel\": {\"type\": \"literal\", \"value\": \"Dutch artwork code\", \"xml:lang\": \"en\"}}, {\"subProp\": {\"type\": \"uri\", \"value\": \"http://dbpedia.org/ontology/playRole\"}, \"prop\": {\"type\": \"uri\", \"value\": \"http://dbpedia.org/ontology/uses\"}, \"propLabel\": {\"type\": \"literal\", \"value\": \"uses\", \"xml:lang\": \"en\"}, \"subPropLabel\": {\"type\": \"literal\", \"value\": \"play role\", \"xml:lang\": \"en\"}}, {\"subProp\": {\"type\": \"uri\", \"value\": \"http://dbpedia.org/ontology/championInDoubleMale\"}, \"prop\": {\"type\": \"uri\", \"value\": \"http://dbpedia.org/ontology/championInDouble\"}, \"propLabel\": {\"type\": \"literal\", \"value\": \"champion in double\", \"xml:lang\": \"en\"}, \"subPropLabel\": {\"type\": \"literal\", \"value\": \"champion in double male\", \"xml:lang\": \"en\"}}, {\"subProp\": {\"type\": \"uri\", \"value\": \"http://dbpedia.org/ontology/nameInJapanese\"}, \"prop\": {\"type\": \"uri\", \"value\": \"http://dbpedia.org/ontology/name\"}, \"propLabel\": {\"type\": \"literal\", \"value\": \"name\", \"xml:lang\": \"en\"}, \"subPropLabel\": {\"type\": \"literal\", \"value\": \"name in Japanese\", \"xml:lang\": \"en\"}}, {\"subProp\": {\"type\": \"uri\", \"value\": \"http://dbpedia.org/ontology/premiereDate\"}, \"prop\": {\"type\": \"uri\", \"value\": \"http://dbpedia.org/ontology/releaseDate\"}, \"propLabel\": {\"type\": \"literal\", \"value\": \"release date\", \"xml:lang\": \"en\"}, \"subPropLabel\": {\"type\": \"literal\", \"value\": \"premiere date\", \"xml:lang\": \"en\"}}, {\"subProp\": {\"type\": \"uri\", \"value\": \"http://dbpedia.org/ontology/nameInCantoneseChinese\"}, \"prop\": {\"type\": \"uri\", \"value\": \"http://dbpedia.org/ontology/name\"}, \"propLabel\": {\"type\": \"literal\", \"value\": \"name\", \"xml:lang\": \"en\"}, \"subPropLabel\": {\"type\": \"literal\", \"value\": \"name in Yue Chinese\", \"xml:lang\": \"en\"}}, {\"subProp\": {\"type\": \"uri\", \"value\": \"http://dbpedia.org/ontology/provinceIsoCode\"}, \"prop\": {\"type\": \"uri\", \"value\": \"http://dbpedia.org/ontology/isoCode\"}, \"propLabel\": {\"type\": \"literal\", \"value\": \"iso code of a place\", \"xml:lang\": \"en\"}, \"subPropLabel\": {\"type\": \"literal\", \"value\": \"iso code of a province\", \"xml:lang\": \"en\"}}, {\"subProp\": {\"type\": \"uri\", \"value\": \"http://dbpedia.org/ontology/dutchWinkelID\"}, \"prop\": {\"type\": \"uri\", \"value\": \"http://dbpedia.org/ontology/code\"}, \"propLabel\": {\"type\": \"literal\", \"value\": \"code\", \"xml:lang\": \"en\"}, \"subPropLabel\": {\"type\": \"literal\", \"value\": \"Dutch PPN code\", \"xml:lang\": \"en\"}}, {\"subProp\": {\"type\": \"uri\", \"value\": \"http://dbpedia.org/ontology/awayColourHexCode\"}, \"prop\": {\"type\": \"uri\", \"value\": \"http://dbpedia.org/ontology/colourHexCode\"}, \"propLabel\": {\"type\": \"literal\", \"value\": \"colour hex code\", \"xml:lang\": \"en\"}, \"subPropLabel\": {\"type\": \"literal\", \"value\": \"colour hex code of away jersey or its parts\", \"xml:lang\": \"en\"}}, {\"subProp\": {\"type\": \"uri\", \"value\": \"http://dbpedia.org/ontology/westPlace\"}, \"prop\": {\"type\": \"uri\", \"value\": \"http://dbpedia.org/ontology/closeTo\"}, \"propLabel\": {\"type\": \"literal\", \"value\": \"is close to\", \"xml:lang\": \"en\"}, \"subPropLabel\": {\"type\": \"literal\", \"value\": \"west place\", \"xml:lang\": \"en\"}}, {\"subProp\": {\"type\": \"uri\", \"value\": \"http://dbpedia.org/ontology/southWestPlace\"}, \"prop\": {\"type\": \"uri\", \"value\": \"http://dbpedia.org/ontology/closeTo\"}, \"propLabel\": {\"type\": \"literal\", \"value\": \"is close to\", \"xml:lang\": \"en\"}, \"subPropLabel\": {\"type\": \"literal\", \"value\": \"south-west place\", \"xml:lang\": \"en\"}}, {\"subProp\": {\"type\": \"uri\", \"value\": \"http://dbpedia.org/ontology/championInSingleFemale\"}, \"prop\": {\"type\": \"uri\", \"value\": \"http://dbpedia.org/ontology/championInSingle\"}, \"propLabel\": {\"type\": \"literal\", \"value\": \"champion in single\", \"xml:lang\": \"en\"}, \"subPropLabel\": {\"type\": \"literal\", \"value\": \"champion in single female\", \"xml:lang\": \"en\"}}, {\"subProp\": {\"type\": \"uri\", \"value\": \"http://dbpedia.org/ontology/numberOfPixels\"}, \"prop\": {\"type\": \"uri\", \"value\": \"http://dbpedia.org/ontology/number\"}, \"propLabel\": {\"type\": \"literal\", \"value\": \"number\", \"xml:lang\": \"en\"}, \"subPropLabel\": {\"type\": \"literal\", \"value\": \"number of pixels (millions)\", \"xml:lang\": \"en\"}}, {\"subProp\": {\"type\": \"uri\", \"value\": \"http://dbpedia.org/ontology/locationCity\"}, \"prop\": {\"type\": \"uri\", \"value\": \"http://dbpedia.org/ontology/location\"}, \"propLabel\": {\"type\": \"literal\", \"value\": \"location\", \"xml:lang\": \"en\"}, \"subPropLabel\": {\"type\": \"literal\", \"value\": \"location city\", \"xml:lang\": \"en\"}}, {\"subProp\": {\"type\": \"uri\", \"value\": \"http://dbpedia.org/ontology/ngcName\"}, \"prop\": {\"type\": \"uri\", \"value\": \"http://dbpedia.org/ontology/name\"}, \"propLabel\": {\"type\": \"literal\", \"value\": \"name\", \"xml:lang\": \"en\"}, \"subPropLabel\": {\"type\": \"literal\", \"value\": \"NGC name\", \"xml:lang\": \"en\"}}, {\"subProp\": {\"type\": \"uri\", \"value\": \"http://dbpedia.org/ontology/percentageLiteracyMen\"}, \"prop\": {\"type\": \"uri\", \"value\": \"http://dbpedia.org/ontology/percentageLiterate\"}, \"propLabel\": {\"type\": \"literal\", \"value\": \"percentage of a place\\'s population that is literate, degree of analphabetism\", \"xml:lang\": \"en\"}, \"subPropLabel\": {\"type\": \"literal\", \"value\": \"percentage of a place\\'s male population that is literate, degree of analphabetism\", \"xml:lang\": \"en\"}}, {\"subProp\": {\"type\": \"uri\", \"value\": \"http://dbpedia.org/ontology/nameInPinyinChinese\"}, \"prop\": {\"type\": \"uri\", \"value\": \"http://dbpedia.org/ontology/name\"}, \"propLabel\": {\"type\": \"literal\", \"value\": \"name\", \"xml:lang\": \"en\"}, \"subPropLabel\": {\"type\": \"literal\", \"value\": \"name in Pinyin Chinese\", \"xml:lang\": \"en\"}}, {\"subProp\": {\"type\": \"uri\", \"value\": \"http://dbpedia.org/ontology/olympicOathSwornByAthlete\"}, \"prop\": {\"type\": \"uri\", \"value\": \"http://dbpedia.org/ontology/olympicOathSwornBy\"}, \"propLabel\": {\"type\": \"literal\", \"value\": \"olympic oath sworn by\", \"xml:lang\": \"en\"}, \"subPropLabel\": {\"type\": \"literal\", \"value\": \"olympic oath sworn by athlete\", \"xml:lang\": \"en\"}}, {\"subProp\": {\"type\": \"uri\", \"value\": \"http://dbpedia.org/ontology/nameInHangulKorean\"}, \"prop\": {\"type\": \"uri\", \"value\": \"http://dbpedia.org/ontology/name\"}, \"propLabel\": {\"type\": \"literal\", \"value\": \"name\", \"xml:lang\": \"en\"}, \"subPropLabel\": {\"type\": \"literal\", \"value\": \"name in Hangul-written Korean\", \"xml:lang\": \"en\"}}, {\"subProp\": {\"type\": \"uri\", \"value\": \"http://dbpedia.org/ontology/locationCountry\"}, \"prop\": {\"type\": \"uri\", \"value\": \"http://dbpedia.org/ontology/location\"}, \"propLabel\": {\"type\": \"literal\", \"value\": \"location\", \"xml:lang\": \"en\"}, \"subPropLabel\": {\"type\": \"literal\", \"value\": \"pa\\xc5\\x84stwo\", \"xml:lang\": \"en\"}}, {\"subProp\": {\"type\": \"uri\", \"value\": \"http://dbpedia.org/ontology/championInSingle\"}, \"prop\": {\"type\": \"uri\", \"value\": \"http://dbpedia.org/ontology/champion\"}, \"propLabel\": {\"type\": \"literal\", \"value\": \"champion\", \"xml:lang\": \"en\"}, \"subPropLabel\": {\"type\": \"literal\", \"value\": \"champion in single\", \"xml:lang\": \"en\"}}, {\"subProp\": {\"type\": \"uri\", \"value\": \"http://dbpedia.org/ontology/nextMission\"}, \"prop\": {\"type\": \"uri\", \"value\": \"http://dbpedia.org/ontology/followedBy\"}, \"propLabel\": {\"type\": \"literal\", \"value\": \"followed by\", \"xml:lang\": \"en\"}, \"subPropLabel\": {\"type\": \"literal\", \"value\": \"next mission\", \"xml:lang\": \"en\"}}, {\"subProp\": {\"type\": \"uri\", \"value\": \"http://dbpedia.org/ontology/nameInSimplifiedChinese\"}, \"prop\": {\"type\": \"uri\", \"value\": \"http://dbpedia.org/ontology/name\"}, \"propLabel\": {\"type\": \"literal\", \"value\": \"name\", \"xml:lang\": \"en\"}, \"subPropLabel\": {\"type\": \"literal\", \"value\": \"name in Simplified Chinese\", \"xml:lang\": \"en\"}}, {\"subProp\": {\"type\": \"uri\", \"value\": \"http://dbpedia.org/ontology/averageDepth\"}, \"prop\": {\"type\": \"uri\", \"value\": \"http://dbpedia.org/ontology/depth\"}, \"propLabel\": {\"type\": \"literal\", \"value\": \"depth (\\xce\\xbc)\", \"xml:lang\": \"en\"}, \"subPropLabel\": {\"type\": \"literal\", \"value\": \"average depth (\\xce\\xbc)\", \"xml:lang\": \"en\"}}, {\"subProp\": {\"type\": \"uri\", \"value\": \"http://dbpedia.org/ontology/inseeCode\"}, \"prop\": {\"type\": \"uri\", \"value\": \"http://dbpedia.org/ontology/codeSettlement\"}, \"propLabel\": {\"type\": \"literal\", \"value\": \"settlement code\", \"xml:lang\": \"en\"}, \"subPropLabel\": {\"type\": \"literal\", \"value\": \"INSEE code\", \"xml:lang\": \"en\"}}, {\"subProp\": {\"type\": \"uri\", \"value\": \"http://dbpedia.org/ontology/northWestPlace\"}, \"prop\": {\"type\": \"uri\", \"value\": \"http://dbpedia.org/ontology/closeTo\"}, \"propLabel\": {\"type\": \"literal\", \"value\": \"is close to\", \"xml:lang\": \"en\"}, \"subPropLabel\": {\"type\": \"literal\", \"value\": \"north-west place\", \"xml:lang\": \"en\"}}, {\"subProp\": {\"type\": \"uri\", \"value\": \"http://dbpedia.org/ontology/southEastPlace\"}, \"prop\": {\"type\": \"uri\", \"value\": \"http://dbpedia.org/ontology/closeTo\"}, \"propLabel\": {\"type\": \"literal\", \"value\": \"is close to\", \"xml:lang\": \"en\"}, \"subPropLabel\": {\"type\": \"literal\", \"value\": \"south-east place\", \"xml:lang\": \"en\"}}, {\"subProp\": {\"type\": \"uri\", \"value\": \"http://dbpedia.org/ontology/nameInHanjaKorean\"}, \"prop\": {\"type\": \"uri\", \"value\": \"http://dbpedia.org/ontology/name\"}, \"propLabel\": {\"type\": \"literal\", \"value\": \"name\", \"xml:lang\": \"en\"}, \"subPropLabel\": {\"type\": \"literal\", \"value\": \"name in Hanja-written (traditional) Korean\", \"xml:lang\": \"en\"}}, {\"subProp\": {\"type\": \"uri\", \"value\": \"http://dbpedia.org/ontology/subClassis\"}, \"prop\": {\"type\": \"uri\", \"value\": \"http://dbpedia.org/ontology/classis\"}, \"propLabel\": {\"type\": \"literal\", \"value\": \"classis\", \"xml:lang\": \"en\"}, \"subPropLabel\": {\"type\": \"literal\", \"value\": \"sub-classis\", \"xml:lang\": \"en\"}}, {\"subProp\": {\"type\": \"uri\", \"value\": \"http://dbpedia.org/ontology/codeListOfHonour\"}, \"prop\": {\"type\": \"uri\", \"value\": \"http://dbpedia.org/ontology/code\"}, \"propLabel\": {\"type\": \"literal\", \"value\": \"code\", \"xml:lang\": \"en\"}, \"subPropLabel\": {\"type\": \"literal\", \"value\": \"code on List of Honour\", \"xml:lang\": \"en\"}}, {\"subProp\": {\"type\": \"uri\", \"value\": \"http://dbpedia.org/ontology/capital\"}, \"prop\": {\"type\": \"uri\", \"value\": \"http://dbpedia.org/ontology/administrativeHeadCity\"}, \"propLabel\": {\"type\": \"literal\", \"value\": \"head city\", \"xml:lang\": \"en\"}, \"subPropLabel\": {\"type\": \"literal\", \"value\": \"capital\", \"xml:lang\": \"en\"}}, {\"subProp\": {\"type\": \"uri\", \"value\": \"http://dbpedia.org/ontology/codeProvincialMonument\"}, \"prop\": {\"type\": \"uri\", \"value\": \"http://dbpedia.org/ontology/code\"}, \"propLabel\": {\"type\": \"literal\", \"value\": \"code\", \"xml:lang\": \"en\"}, \"subPropLabel\": {\"type\": \"literal\", \"value\": \"monument code (provinciall)\", \"xml:lang\": \"en\"}}, {\"subProp\": {\"type\": \"uri\", \"value\": \"http://dbpedia.org/ontology/greekName\"}, \"prop\": {\"type\": \"uri\", \"value\": \"http://dbpedia.org/ontology/Name\"}, \"propLabel\": {\"type\": \"literal\", \"value\": \"name\", \"xml:lang\": \"en\"}, \"subPropLabel\": {\"type\": \"literal\", \"value\": \"name in ancient Greek\", \"xml:lang\": \"en\"}}, {\"subProp\": {\"type\": \"uri\", \"value\": \"http://dbpedia.org/ontology/championInSingleMale\"}, \"prop\": {\"type\": \"uri\", \"value\": \"http://dbpedia.org/ontology/championInSingle\"}, \"propLabel\": {\"type\": \"literal\", \"value\": \"champion in single\", \"xml:lang\": \"en\"}, \"subPropLabel\": {\"type\": \"literal\", \"value\": \"champion in single male\", \"xml:lang\": \"en\"}}, {\"subProp\": {\"type\": \"uri\", \"value\": \"http://dbpedia.org/ontology/originalLanguage\"}, \"prop\": {\"type\": \"uri\", \"value\": \"http://dbpedia.org/ontology/language\"}, \"propLabel\": {\"type\": \"literal\", \"value\": \"language\", \"xml:lang\": \"en\"}, \"subPropLabel\": {\"type\": \"literal\", \"value\": \"original language\", \"xml:lang\": \"en\"}}, {\"subProp\": {\"type\": \"uri\", \"value\": \"http://dbpedia.org/ontology/firstPublisher\"}, \"prop\": {\"type\": \"uri\", \"value\": \"http://dbpedia.org/ontology/publisher\"}, \"propLabel\": {\"type\": \"literal\", \"value\": \"publisher\", \"xml:lang\": \"en\"}, \"subPropLabel\": {\"type\": \"literal\", \"value\": \"first publisher\", \"xml:lang\": \"en\"}}, {\"subProp\": {\"type\": \"uri\", \"value\": \"http://dbpedia.org/ontology/zipCode\"}, \"prop\": {\"type\": \"uri\", \"value\": \"http://dbpedia.org/ontology/postalCode\"}, \"propLabel\": {\"type\": \"literal\", \"value\": \"postal code\", \"xml:lang\": \"en\"}, \"subPropLabel\": {\"type\": \"literal\", \"value\": \"zip code\", \"xml:lang\": \"en\"}}, {\"subProp\": {\"type\": \"uri\", \"value\": \"http://dbpedia.org/ontology/nameInMindongyuChinese\"}, \"prop\": {\"type\": \"uri\", \"value\": \"http://dbpedia.org/ontology/name\"}, \"propLabel\": {\"type\": \"literal\", \"value\": \"name\", \"xml:lang\": \"en\"}, \"subPropLabel\": {\"type\": \"literal\", \"value\": \"name in Mindongyu Chinese\", \"xml:lang\": \"en\"}}, {\"subProp\": {\"type\": \"uri\", \"value\": \"http://dbpedia.org/ontology/dutchNAIdentifier\"}, \"prop\": {\"type\": \"uri\", \"value\": \"http://dbpedia.org/ontology/code\"}, \"propLabel\": {\"type\": \"literal\", \"value\": \"code\", \"xml:lang\": \"en\"}, \"subPropLabel\": {\"type\": \"literal\", \"value\": \"Identifier for Duch National Archive\", \"xml:lang\": \"en\"}}, {\"subProp\": {\"type\": \"uri\", \"value\": \"http://dbpedia.org/ontology/nameInTraditionalChinese\"}, \"prop\": {\"type\": \"uri\", \"value\": \"http://dbpedia.org/ontology/name\"}, \"propLabel\": {\"type\": \"literal\", \"value\": \"name\", \"xml:lang\": \"en\"}, \"subPropLabel\": {\"type\": \"literal\", \"value\": \"name in Traditional Chinese\", \"xml:lang\": \"en\"}}, {\"subProp\": {\"type\": \"uri\", \"value\": \"http://dbpedia.org/ontology/alias\"}, \"prop\": {\"type\": \"uri\", \"value\": \"http://dbpedia.org/ontology/alternativeName\"}, \"propLabel\": {\"type\": \"literal\", \"value\": \"alternative name\", \"xml:lang\": \"en\"}, \"subPropLabel\": {\"type\": \"literal\", \"value\": \"alias\", \"xml:lang\": \"en\"}}, {\"subProp\": {\"type\": \"uri\", \"value\": \"http://dbpedia.org/ontology/codeStockExchange\"}, \"prop\": {\"type\": \"uri\", \"value\": \"http://dbpedia.org/ontology/code\"}, \"propLabel\": {\"type\": \"literal\", \"value\": \"code\", \"xml:lang\": \"en\"}, \"subPropLabel\": {\"type\": \"literal\", \"value\": \"code Stock Exchange\", \"xml:lang\": \"en\"}}, {\"subProp\": {\"type\": \"uri\", \"value\": \"http://dbpedia.org/ontology/nameInMinnanyuChinese\"}, \"prop\": {\"type\": \"uri\", \"value\": \"http://dbpedia.org/ontology/name\"}, \"propLabel\": {\"type\": \"literal\", \"value\": \"name\", \"xml:lang\": \"en\"}, \"subPropLabel\": {\"type\": \"literal\", \"value\": \"name in Minnanyu Chinese\", \"xml:lang\": \"en\"}}, {\"subProp\": {\"type\": \"uri\", \"value\": \"http://dbpedia.org/ontology/codeMunicipalMonument\"}, \"prop\": {\"type\": \"uri\", \"value\": \"http://dbpedia.org/ontology/code\"}, \"propLabel\": {\"type\": \"literal\", \"value\": \"code\", \"xml:lang\": \"en\"}, \"subPropLabel\": {\"type\": \"literal\", \"value\": \"monument code (municipal)\", \"xml:lang\": \"en\"}}, {\"subProp\": {\"type\": \"uri\", \"value\": \"http://dbpedia.org/ontology/muteCharacterInPlay\"}, \"prop\": {\"type\": \"uri\", \"value\": \"http://dbpedia.org/ontology/characterInPlay\"}, \"propLabel\": {\"type\": \"literal\", \"value\": \"character in play\", \"xml:lang\": \"en\"}, \"subPropLabel\": {\"type\": \"literal\", \"value\": \"mute character in play\", \"xml:lang\": \"en\"}}, {\"subProp\": {\"type\": \"uri\", \"value\": \"http://dbpedia.org/ontology/homeColourHexCode\"}, \"prop\": {\"type\": \"uri\", \"value\": \"http://dbpedia.org/ontology/colourHexCode\"}, \"propLabel\": {\"type\": \"literal\", \"value\": \"colour hex code\", \"xml:lang\": \"en\"}, \"subPropLabel\": {\"type\": \"literal\", \"value\": \"colour hex code of home jersey or its parts\", \"xml:lang\": \"en\"}}, {\"subProp\": {\"type\": \"uri\", \"value\": \"http://dbpedia.org/ontology/literaryGenre\"}, \"prop\": {\"type\": \"uri\", \"value\": \"http://dbpedia.org/ontology/genre\"}, \"propLabel\": {\"type\": \"literal\", \"value\": \"genre\", \"xml:lang\": \"en\"}, \"subPropLabel\": {\"type\": \"literal\", \"value\": \"literary genre\", \"xml:lang\": \"en\"}}]}, \"head\": {\"vars\": [\"subProp\", \"subPropLabel\", \"prop\", \"propLabel\"]}}'"
      ]
     },
     "execution_count": 39,
     "metadata": {},
     "output_type": "execute_result"
    }
   ],
   "source": [
    "query = \"\"\"\n",
    "    PREFIX      rdfs:  <http://www.w3.org/2000/01/rdf-schema#>\n",
    "\n",
    "    SELECT DISTINCT ?subProp ?subPropLabel ?prop ?propLabel\n",
    "    WHERE\n",
    "      {\n",
    "        ?subProp  rdfs:subPropertyOf  ?prop .\n",
    "        ?subProp  rdfs:label          ?subPropLabel .\n",
    "        ?prop     rdfs:label          ?propLabel .\n",
    "        FILTER (lang(?subPropLabel) = 'en')\n",
    "        FILTER (lang(?propLabel) = 'en')\n",
    "      }\n",
    "    \"\"\"\n",
    "results = graph.query(query, processor=\"sparql\")\n",
    "results.serialize(format=\"json\")"
   ]
  },
  {
   "cell_type": "code",
   "execution_count": 40,
   "metadata": {},
   "outputs": [
    {
     "data": {
      "text/html": [
       "<div>\n",
       "<style scoped>\n",
       "    .dataframe tbody tr th:only-of-type {\n",
       "        vertical-align: middle;\n",
       "    }\n",
       "\n",
       "    .dataframe tbody tr th {\n",
       "        vertical-align: top;\n",
       "    }\n",
       "\n",
       "    .dataframe thead th {\n",
       "        text-align: right;\n",
       "    }\n",
       "</style>\n",
       "<table border=\"1\" class=\"dataframe\">\n",
       "  <thead>\n",
       "    <tr style=\"text-align: right;\">\n",
       "      <th></th>\n",
       "      <th>Subproperty</th>\n",
       "      <th>SubpropertyLabel</th>\n",
       "      <th>Property</th>\n",
       "      <th>PropertyLabel</th>\n",
       "    </tr>\n",
       "  </thead>\n",
       "  <tbody>\n",
       "    <tr>\n",
       "      <th>0</th>\n",
       "      <td>http://dbpedia.org/ontology/championInDoubleFe...</td>\n",
       "      <td>champion in double female</td>\n",
       "      <td>http://dbpedia.org/ontology/championInDouble</td>\n",
       "      <td>champion in double</td>\n",
       "    </tr>\n",
       "    <tr>\n",
       "      <th>1</th>\n",
       "      <td>http://dbpedia.org/ontology/championInDouble</td>\n",
       "      <td>champion in double</td>\n",
       "      <td>http://dbpedia.org/ontology/champion</td>\n",
       "      <td>champion</td>\n",
       "    </tr>\n",
       "    <tr>\n",
       "      <th>2</th>\n",
       "      <td>http://dbpedia.org/ontology/maximumDepth</td>\n",
       "      <td>maximum depth (μ)</td>\n",
       "      <td>http://dbpedia.org/ontology/depth</td>\n",
       "      <td>depth (μ)</td>\n",
       "    </tr>\n",
       "    <tr>\n",
       "      <th>3</th>\n",
       "      <td>http://dbpedia.org/ontology/eastPlace</td>\n",
       "      <td>east place</td>\n",
       "      <td>http://dbpedia.org/ontology/closeTo</td>\n",
       "      <td>is close to</td>\n",
       "    </tr>\n",
       "    <tr>\n",
       "      <th>4</th>\n",
       "      <td>http://dbpedia.org/ontology/meshNumber</td>\n",
       "      <td>MeSH number</td>\n",
       "      <td>http://dbpedia.org/ontology/code</td>\n",
       "      <td>code</td>\n",
       "    </tr>\n",
       "  </tbody>\n",
       "</table>\n",
       "</div>"
      ],
      "text/plain": [
       "                                         Subproperty  \\\n",
       "0  http://dbpedia.org/ontology/championInDoubleFe...   \n",
       "1       http://dbpedia.org/ontology/championInDouble   \n",
       "2           http://dbpedia.org/ontology/maximumDepth   \n",
       "3              http://dbpedia.org/ontology/eastPlace   \n",
       "4             http://dbpedia.org/ontology/meshNumber   \n",
       "\n",
       "            SubpropertyLabel                                      Property  \\\n",
       "0  champion in double female  http://dbpedia.org/ontology/championInDouble   \n",
       "1         champion in double          http://dbpedia.org/ontology/champion   \n",
       "2          maximum depth (μ)             http://dbpedia.org/ontology/depth   \n",
       "3                 east place           http://dbpedia.org/ontology/closeTo   \n",
       "4                MeSH number              http://dbpedia.org/ontology/code   \n",
       "\n",
       "        PropertyLabel  \n",
       "0  champion in double  \n",
       "1            champion  \n",
       "2           depth (μ)  \n",
       "3         is close to  \n",
       "4                code  "
      ]
     },
     "execution_count": 40,
     "metadata": {},
     "output_type": "execute_result"
    }
   ],
   "source": [
    "results_list = list()\n",
    "for row in range(len(results)):\n",
    "    results_list.append([\n",
    "        str(results.bindings[row][\"subProp\"]),\n",
    "        str(results.bindings[row][\"subPropLabel\"]),\n",
    "        str(results.bindings[row][\"prop\"]),\n",
    "        str(results.bindings[row][\"propLabel\"])\n",
    "    ])\n",
    "dbpedia_subproperties = pd.DataFrame(results_list,\n",
    "                         columns = [\"Subproperty\", \"SubpropertyLabel\", \"Property\", \"PropertyLabel\"])\n",
    "dbpedia_subproperties.head()"
   ]
  },
  {
   "cell_type": "code",
   "execution_count": 41,
   "metadata": {},
   "outputs": [
    {
     "name": "stdout",
     "output_type": "stream",
     "text": [
      "Queried 75 subproperties from DBpedia.\n"
     ]
    }
   ],
   "source": [
    "dbpedia_subproperties_count = len(dbpedia_subproperties)\n",
    "print(\"Queried {} subproperties from DBpedia.\".format(dbpedia_subproperties_count))"
   ]
  },
  {
   "cell_type": "code",
   "execution_count": 42,
   "metadata": {},
   "outputs": [],
   "source": [
    "dbpedia_subproperties_file = \"../Data/interim/DBpedia/properties/DBpedia_subproperties.csv\"\n",
    "dbpedia_subproperties.to_csv(dbpedia_subproperties_file, index = False)"
   ]
  },
  {
   "cell_type": "markdown",
   "metadata": {},
   "source": [
    "## 3.2. Compute percentage of instances with subproperties"
   ]
  },
  {
   "cell_type": "code",
   "execution_count": 43,
   "metadata": {
    "scrolled": true
   },
   "outputs": [
    {
     "name": "stdout",
     "output_type": "stream",
     "text": [
      "championInDoubleFemale\n",
      "championInDouble\n",
      "maximumDepth\n",
      "eastPlace\n",
      "meshNumber\n",
      "politicGovernmentDepartment\n",
      "olympicOathSwornByJudge\n",
      "codeNationalMonument\n",
      "nameInWadeGilesChinese\n",
      "northPlace\n",
      "latinName\n",
      "ofsCode\n",
      "dutchPPNCode\n",
      "isPartOfMilitaryConflict\n",
      "northEastPlace\n",
      "ekatteCode\n",
      "chorusCharacterInPlay\n",
      "owningOrganisation\n",
      "nextEvent\n",
      "isPartOfWineRegion\n",
      "southPlace\n",
      "codeIndex\n",
      "senator\n",
      "championInMixedDouble\n",
      "communityIsoCode\n",
      "commandant\n",
      "isPartOfAnatomicalStructure\n",
      "messierName\n",
      "dutchArtworkCode\n",
      "playRole\n",
      "championInDoubleMale\n",
      "nameInJapanese\n",
      "premiereDate\n",
      "nameInCantoneseChinese\n",
      "provinceIsoCode\n",
      "dutchWinkelID\n",
      "awayColourHexCode\n",
      "westPlace\n",
      "southWestPlace\n",
      "championInSingleFemale\n",
      "numberOfPixels\n",
      "locationCity\n",
      "ngcName\n",
      "percentageLiteracyMen\n",
      "nameInPinyinChinese\n",
      "olympicOathSwornByAthlete\n",
      "nameInHangulKorean\n",
      "locationCountry\n",
      "championInSingle\n",
      "nextMission\n",
      "nameInSimplifiedChinese\n",
      "averageDepth\n",
      "inseeCode\n",
      "northWestPlace\n",
      "southEastPlace\n",
      "nameInHanjaKorean\n",
      "subClassis\n",
      "codeListOfHonour\n",
      "capital\n",
      "codeProvincialMonument\n",
      "greekName\n",
      "championInSingleMale\n",
      "originalLanguage\n",
      "firstPublisher\n",
      "zipCode\n",
      "nameInMindongyuChinese\n",
      "dutchNAIdentifier\n",
      "nameInTraditionalChinese\n",
      "alias\n",
      "codeStockExchange\n",
      "nameInMinnanyuChinese\n",
      "codeMunicipalMonument\n",
      "muteCharacterInPlay\n",
      "homeColourHexCode\n",
      "literaryGenre\n"
     ]
    }
   ],
   "source": [
    "instances_with_subprop = set()\n",
    "for sub_prop in dbpedia_subproperties[\"Subproperty\"]:\n",
    "    prop = sub_prop.split(\"/\")[-1]\n",
    "    print(prop)\n",
    "    query = \"\"\"\n",
    "        SELECT DISTINCT ?item\n",
    "        WHERE {\n",
    "            ?item dbo:\"\"\" + prop + \"\"\" [] .\n",
    "        }\n",
    "     \"\"\"\n",
    "    results_df = run_query(dbpedia_sparql, query)\n",
    "    if not results_df.empty:\n",
    "        instances_with_subprop.update(list(results_df[\"item.value\"]))"
   ]
  },
  {
   "cell_type": "code",
   "execution_count": 44,
   "metadata": {},
   "outputs": [
    {
     "name": "stdout",
     "output_type": "stream",
     "text": [
      "82314 instances from DBpedia have an object property matched to a transitive property in Wikidata.\n",
      "Percentage of DBpedia instances with  subproperties (out of all DBpedia instances): 1.4994455909497708\n"
     ]
    }
   ],
   "source": [
    "instances_with_subprop_count = len(instances_with_subprop)\n",
    "print(\"{} instances from DBpedia have an object property matched to a transitive property in Wikidata.\".format(\n",
    "    instances_with_subprop_count))\n",
    "print(\"Percentage of DBpedia instances with  subproperties (out of all DBpedia instances): {}\"\\\n",
    "      .format(100 * instances_with_subprop_count/dbpedia_instances_count))"
   ]
  },
  {
   "cell_type": "code",
   "execution_count": null,
   "metadata": {},
   "outputs": [],
   "source": []
  }
 ],
 "metadata": {
  "kernelspec": {
   "display_name": "Python 3",
   "language": "python",
   "name": "python3"
  },
  "language_info": {
   "codemirror_mode": {
    "name": "ipython",
    "version": 3
   },
   "file_extension": ".py",
   "mimetype": "text/x-python",
   "name": "python",
   "nbconvert_exporter": "python",
   "pygments_lexer": "ipython3",
   "version": "3.6.8"
  }
 },
 "nbformat": 4,
 "nbformat_minor": 2
}
